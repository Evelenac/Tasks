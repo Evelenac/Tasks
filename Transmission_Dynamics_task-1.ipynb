{
  "nbformat": 4,
  "nbformat_minor": 0,
  "metadata": {
    "colab": {
      "provenance": []
    },
    "kernelspec": {
      "name": "python3",
      "display_name": "Python 3"
    },
    "language_info": {
      "name": "python"
    }
  },
  "cells": [
    {
      "cell_type": "markdown",
      "source": [
        "#Transmission Dynamics"
      ],
      "metadata": {
        "id": "-W7Cz19rxU8s"
      }
    },
    {
      "cell_type": "markdown",
      "source": [
        "Data from sensors recording the temperature of two train gearboxes.\n",
        "The data has been provided as a csv, with columns as follows:\n",
        "\n",
        "- datetime: The date and time that the recording took place at. These are recorded in the UTC timezone.\n",
        "- temperature: The temperature recorded by the sensor in degrees Celsius\n",
        "- gearbox: Which gearbox the recording came from – either “A” or “B”."
      ],
      "metadata": {
        "id": "mjS1LWbsxsS0"
      }
    },
    {
      "cell_type": "code",
      "source": [
        "import pandas as pd \n",
        "import plotly.express as px"
      ],
      "metadata": {
        "id": "92KWws2nxXpg"
      },
      "execution_count": 5,
      "outputs": []
    },
    {
      "cell_type": "markdown",
      "source": [
        "## Dataset overview"
      ],
      "metadata": {
        "id": "OfE4Kq2Iyc-G"
      }
    },
    {
      "cell_type": "code",
      "source": [
        "!pwd"
      ],
      "metadata": {
        "colab": {
          "base_uri": "https://localhost:8080/"
        },
        "id": "S9XRUCtfykPm",
        "outputId": "df244c80-de9e-4c31-cf3f-473453519b09"
      },
      "execution_count": 6,
      "outputs": [
        {
          "output_type": "stream",
          "name": "stdout",
          "text": [
            "/content\n"
          ]
        }
      ]
    },
    {
      "cell_type": "code",
      "source": [
        "df = pd.read_csv('test_temperature_data.csv')"
      ],
      "metadata": {
        "id": "uBWBfBU6yFvJ"
      },
      "execution_count": 7,
      "outputs": []
    },
    {
      "cell_type": "code",
      "source": [
        "df.head()"
      ],
      "metadata": {
        "colab": {
          "base_uri": "https://localhost:8080/",
          "height": 204
        },
        "id": "aBynuwRVzVrl",
        "outputId": "76a10e59-89bc-4b76-c48f-3eb190d443c6"
      },
      "execution_count": 8,
      "outputs": [
        {
          "output_type": "execute_result",
          "data": {
            "text/plain": [
              "              datetime  temperature gearbox\n",
              "0  2023-01-01 05:12:13     2.852171       A\n",
              "1  2023-01-01 05:14:26     3.626351       B\n",
              "2  2023-01-01 05:17:13     2.666521       A\n",
              "3  2023-01-01 05:19:26     3.417510       B\n",
              "4  2023-01-01 05:22:13     2.148986       A"
            ],
            "text/html": [
              "\n",
              "  <div id=\"df-17ad63f8-24c4-41b6-bdee-a30cfde9df9b\">\n",
              "    <div class=\"colab-df-container\">\n",
              "      <div>\n",
              "<style scoped>\n",
              "    .dataframe tbody tr th:only-of-type {\n",
              "        vertical-align: middle;\n",
              "    }\n",
              "\n",
              "    .dataframe tbody tr th {\n",
              "        vertical-align: top;\n",
              "    }\n",
              "\n",
              "    .dataframe thead th {\n",
              "        text-align: right;\n",
              "    }\n",
              "</style>\n",
              "<table border=\"1\" class=\"dataframe\">\n",
              "  <thead>\n",
              "    <tr style=\"text-align: right;\">\n",
              "      <th></th>\n",
              "      <th>datetime</th>\n",
              "      <th>temperature</th>\n",
              "      <th>gearbox</th>\n",
              "    </tr>\n",
              "  </thead>\n",
              "  <tbody>\n",
              "    <tr>\n",
              "      <th>0</th>\n",
              "      <td>2023-01-01 05:12:13</td>\n",
              "      <td>2.852171</td>\n",
              "      <td>A</td>\n",
              "    </tr>\n",
              "    <tr>\n",
              "      <th>1</th>\n",
              "      <td>2023-01-01 05:14:26</td>\n",
              "      <td>3.626351</td>\n",
              "      <td>B</td>\n",
              "    </tr>\n",
              "    <tr>\n",
              "      <th>2</th>\n",
              "      <td>2023-01-01 05:17:13</td>\n",
              "      <td>2.666521</td>\n",
              "      <td>A</td>\n",
              "    </tr>\n",
              "    <tr>\n",
              "      <th>3</th>\n",
              "      <td>2023-01-01 05:19:26</td>\n",
              "      <td>3.417510</td>\n",
              "      <td>B</td>\n",
              "    </tr>\n",
              "    <tr>\n",
              "      <th>4</th>\n",
              "      <td>2023-01-01 05:22:13</td>\n",
              "      <td>2.148986</td>\n",
              "      <td>A</td>\n",
              "    </tr>\n",
              "  </tbody>\n",
              "</table>\n",
              "</div>\n",
              "      <button class=\"colab-df-convert\" onclick=\"convertToInteractive('df-17ad63f8-24c4-41b6-bdee-a30cfde9df9b')\"\n",
              "              title=\"Convert this dataframe to an interactive table.\"\n",
              "              style=\"display:none;\">\n",
              "        \n",
              "  <svg xmlns=\"http://www.w3.org/2000/svg\" height=\"24px\"viewBox=\"0 0 24 24\"\n",
              "       width=\"24px\">\n",
              "    <path d=\"M0 0h24v24H0V0z\" fill=\"none\"/>\n",
              "    <path d=\"M18.56 5.44l.94 2.06.94-2.06 2.06-.94-2.06-.94-.94-2.06-.94 2.06-2.06.94zm-11 1L8.5 8.5l.94-2.06 2.06-.94-2.06-.94L8.5 2.5l-.94 2.06-2.06.94zm10 10l.94 2.06.94-2.06 2.06-.94-2.06-.94-.94-2.06-.94 2.06-2.06.94z\"/><path d=\"M17.41 7.96l-1.37-1.37c-.4-.4-.92-.59-1.43-.59-.52 0-1.04.2-1.43.59L10.3 9.45l-7.72 7.72c-.78.78-.78 2.05 0 2.83L4 21.41c.39.39.9.59 1.41.59.51 0 1.02-.2 1.41-.59l7.78-7.78 2.81-2.81c.8-.78.8-2.07 0-2.86zM5.41 20L4 18.59l7.72-7.72 1.47 1.35L5.41 20z\"/>\n",
              "  </svg>\n",
              "      </button>\n",
              "      \n",
              "  <style>\n",
              "    .colab-df-container {\n",
              "      display:flex;\n",
              "      flex-wrap:wrap;\n",
              "      gap: 12px;\n",
              "    }\n",
              "\n",
              "    .colab-df-convert {\n",
              "      background-color: #E8F0FE;\n",
              "      border: none;\n",
              "      border-radius: 50%;\n",
              "      cursor: pointer;\n",
              "      display: none;\n",
              "      fill: #1967D2;\n",
              "      height: 32px;\n",
              "      padding: 0 0 0 0;\n",
              "      width: 32px;\n",
              "    }\n",
              "\n",
              "    .colab-df-convert:hover {\n",
              "      background-color: #E2EBFA;\n",
              "      box-shadow: 0px 1px 2px rgba(60, 64, 67, 0.3), 0px 1px 3px 1px rgba(60, 64, 67, 0.15);\n",
              "      fill: #174EA6;\n",
              "    }\n",
              "\n",
              "    [theme=dark] .colab-df-convert {\n",
              "      background-color: #3B4455;\n",
              "      fill: #D2E3FC;\n",
              "    }\n",
              "\n",
              "    [theme=dark] .colab-df-convert:hover {\n",
              "      background-color: #434B5C;\n",
              "      box-shadow: 0px 1px 3px 1px rgba(0, 0, 0, 0.15);\n",
              "      filter: drop-shadow(0px 1px 2px rgba(0, 0, 0, 0.3));\n",
              "      fill: #FFFFFF;\n",
              "    }\n",
              "  </style>\n",
              "\n",
              "      <script>\n",
              "        const buttonEl =\n",
              "          document.querySelector('#df-17ad63f8-24c4-41b6-bdee-a30cfde9df9b button.colab-df-convert');\n",
              "        buttonEl.style.display =\n",
              "          google.colab.kernel.accessAllowed ? 'block' : 'none';\n",
              "\n",
              "        async function convertToInteractive(key) {\n",
              "          const element = document.querySelector('#df-17ad63f8-24c4-41b6-bdee-a30cfde9df9b');\n",
              "          const dataTable =\n",
              "            await google.colab.kernel.invokeFunction('convertToInteractive',\n",
              "                                                     [key], {});\n",
              "          if (!dataTable) return;\n",
              "\n",
              "          const docLinkHtml = 'Like what you see? Visit the ' +\n",
              "            '<a target=\"_blank\" href=https://colab.research.google.com/notebooks/data_table.ipynb>data table notebook</a>'\n",
              "            + ' to learn more about interactive tables.';\n",
              "          element.innerHTML = '';\n",
              "          dataTable['output_type'] = 'display_data';\n",
              "          await google.colab.output.renderOutput(dataTable, element);\n",
              "          const docLink = document.createElement('div');\n",
              "          docLink.innerHTML = docLinkHtml;\n",
              "          element.appendChild(docLink);\n",
              "        }\n",
              "      </script>\n",
              "    </div>\n",
              "  </div>\n",
              "  "
            ]
          },
          "metadata": {},
          "execution_count": 8
        }
      ]
    },
    {
      "cell_type": "code",
      "source": [
        "df.tail()"
      ],
      "metadata": {
        "colab": {
          "base_uri": "https://localhost:8080/",
          "height": 204
        },
        "id": "GCtaEdXIzedJ",
        "outputId": "a8743da7-d95c-4f49-ffb0-b6ee91625095"
      },
      "execution_count": 9,
      "outputs": [
        {
          "output_type": "execute_result",
          "data": {
            "text/plain": [
              "                 datetime  temperature gearbox\n",
              "1147  2023-01-03 04:59:26     5.056080       B\n",
              "1148  2023-01-03 05:02:13     5.796399       A\n",
              "1149  2023-01-03 05:04:26     4.055147       B\n",
              "1150  2023-01-03 05:07:13     5.193202       A\n",
              "1151  2023-01-03 05:09:26     4.592481       B"
            ],
            "text/html": [
              "\n",
              "  <div id=\"df-eadb1426-40cb-46ce-ae65-01f88e3dec3e\">\n",
              "    <div class=\"colab-df-container\">\n",
              "      <div>\n",
              "<style scoped>\n",
              "    .dataframe tbody tr th:only-of-type {\n",
              "        vertical-align: middle;\n",
              "    }\n",
              "\n",
              "    .dataframe tbody tr th {\n",
              "        vertical-align: top;\n",
              "    }\n",
              "\n",
              "    .dataframe thead th {\n",
              "        text-align: right;\n",
              "    }\n",
              "</style>\n",
              "<table border=\"1\" class=\"dataframe\">\n",
              "  <thead>\n",
              "    <tr style=\"text-align: right;\">\n",
              "      <th></th>\n",
              "      <th>datetime</th>\n",
              "      <th>temperature</th>\n",
              "      <th>gearbox</th>\n",
              "    </tr>\n",
              "  </thead>\n",
              "  <tbody>\n",
              "    <tr>\n",
              "      <th>1147</th>\n",
              "      <td>2023-01-03 04:59:26</td>\n",
              "      <td>5.056080</td>\n",
              "      <td>B</td>\n",
              "    </tr>\n",
              "    <tr>\n",
              "      <th>1148</th>\n",
              "      <td>2023-01-03 05:02:13</td>\n",
              "      <td>5.796399</td>\n",
              "      <td>A</td>\n",
              "    </tr>\n",
              "    <tr>\n",
              "      <th>1149</th>\n",
              "      <td>2023-01-03 05:04:26</td>\n",
              "      <td>4.055147</td>\n",
              "      <td>B</td>\n",
              "    </tr>\n",
              "    <tr>\n",
              "      <th>1150</th>\n",
              "      <td>2023-01-03 05:07:13</td>\n",
              "      <td>5.193202</td>\n",
              "      <td>A</td>\n",
              "    </tr>\n",
              "    <tr>\n",
              "      <th>1151</th>\n",
              "      <td>2023-01-03 05:09:26</td>\n",
              "      <td>4.592481</td>\n",
              "      <td>B</td>\n",
              "    </tr>\n",
              "  </tbody>\n",
              "</table>\n",
              "</div>\n",
              "      <button class=\"colab-df-convert\" onclick=\"convertToInteractive('df-eadb1426-40cb-46ce-ae65-01f88e3dec3e')\"\n",
              "              title=\"Convert this dataframe to an interactive table.\"\n",
              "              style=\"display:none;\">\n",
              "        \n",
              "  <svg xmlns=\"http://www.w3.org/2000/svg\" height=\"24px\"viewBox=\"0 0 24 24\"\n",
              "       width=\"24px\">\n",
              "    <path d=\"M0 0h24v24H0V0z\" fill=\"none\"/>\n",
              "    <path d=\"M18.56 5.44l.94 2.06.94-2.06 2.06-.94-2.06-.94-.94-2.06-.94 2.06-2.06.94zm-11 1L8.5 8.5l.94-2.06 2.06-.94-2.06-.94L8.5 2.5l-.94 2.06-2.06.94zm10 10l.94 2.06.94-2.06 2.06-.94-2.06-.94-.94-2.06-.94 2.06-2.06.94z\"/><path d=\"M17.41 7.96l-1.37-1.37c-.4-.4-.92-.59-1.43-.59-.52 0-1.04.2-1.43.59L10.3 9.45l-7.72 7.72c-.78.78-.78 2.05 0 2.83L4 21.41c.39.39.9.59 1.41.59.51 0 1.02-.2 1.41-.59l7.78-7.78 2.81-2.81c.8-.78.8-2.07 0-2.86zM5.41 20L4 18.59l7.72-7.72 1.47 1.35L5.41 20z\"/>\n",
              "  </svg>\n",
              "      </button>\n",
              "      \n",
              "  <style>\n",
              "    .colab-df-container {\n",
              "      display:flex;\n",
              "      flex-wrap:wrap;\n",
              "      gap: 12px;\n",
              "    }\n",
              "\n",
              "    .colab-df-convert {\n",
              "      background-color: #E8F0FE;\n",
              "      border: none;\n",
              "      border-radius: 50%;\n",
              "      cursor: pointer;\n",
              "      display: none;\n",
              "      fill: #1967D2;\n",
              "      height: 32px;\n",
              "      padding: 0 0 0 0;\n",
              "      width: 32px;\n",
              "    }\n",
              "\n",
              "    .colab-df-convert:hover {\n",
              "      background-color: #E2EBFA;\n",
              "      box-shadow: 0px 1px 2px rgba(60, 64, 67, 0.3), 0px 1px 3px 1px rgba(60, 64, 67, 0.15);\n",
              "      fill: #174EA6;\n",
              "    }\n",
              "\n",
              "    [theme=dark] .colab-df-convert {\n",
              "      background-color: #3B4455;\n",
              "      fill: #D2E3FC;\n",
              "    }\n",
              "\n",
              "    [theme=dark] .colab-df-convert:hover {\n",
              "      background-color: #434B5C;\n",
              "      box-shadow: 0px 1px 3px 1px rgba(0, 0, 0, 0.15);\n",
              "      filter: drop-shadow(0px 1px 2px rgba(0, 0, 0, 0.3));\n",
              "      fill: #FFFFFF;\n",
              "    }\n",
              "  </style>\n",
              "\n",
              "      <script>\n",
              "        const buttonEl =\n",
              "          document.querySelector('#df-eadb1426-40cb-46ce-ae65-01f88e3dec3e button.colab-df-convert');\n",
              "        buttonEl.style.display =\n",
              "          google.colab.kernel.accessAllowed ? 'block' : 'none';\n",
              "\n",
              "        async function convertToInteractive(key) {\n",
              "          const element = document.querySelector('#df-eadb1426-40cb-46ce-ae65-01f88e3dec3e');\n",
              "          const dataTable =\n",
              "            await google.colab.kernel.invokeFunction('convertToInteractive',\n",
              "                                                     [key], {});\n",
              "          if (!dataTable) return;\n",
              "\n",
              "          const docLinkHtml = 'Like what you see? Visit the ' +\n",
              "            '<a target=\"_blank\" href=https://colab.research.google.com/notebooks/data_table.ipynb>data table notebook</a>'\n",
              "            + ' to learn more about interactive tables.';\n",
              "          element.innerHTML = '';\n",
              "          dataTable['output_type'] = 'display_data';\n",
              "          await google.colab.output.renderOutput(dataTable, element);\n",
              "          const docLink = document.createElement('div');\n",
              "          docLink.innerHTML = docLinkHtml;\n",
              "          element.appendChild(docLink);\n",
              "        }\n",
              "      </script>\n",
              "    </div>\n",
              "  </div>\n",
              "  "
            ]
          },
          "metadata": {},
          "execution_count": 9
        }
      ]
    },
    {
      "cell_type": "code",
      "source": [
        "df.info()"
      ],
      "metadata": {
        "colab": {
          "base_uri": "https://localhost:8080/"
        },
        "id": "D3urkuOGzx9c",
        "outputId": "d82b8f63-fac0-4427-d95f-32694687493e"
      },
      "execution_count": 10,
      "outputs": [
        {
          "output_type": "stream",
          "name": "stdout",
          "text": [
            "<class 'pandas.core.frame.DataFrame'>\n",
            "RangeIndex: 1152 entries, 0 to 1151\n",
            "Data columns (total 3 columns):\n",
            " #   Column       Non-Null Count  Dtype  \n",
            "---  ------       --------------  -----  \n",
            " 0   datetime     1152 non-null   object \n",
            " 1   temperature  1152 non-null   float64\n",
            " 2   gearbox      1152 non-null   object \n",
            "dtypes: float64(1), object(2)\n",
            "memory usage: 27.1+ KB\n"
          ]
        }
      ]
    },
    {
      "cell_type": "markdown",
      "source": [
        "The data contains 1152 obersavtions, we can see that 2 variables are represented by the object data type."
      ],
      "metadata": {
        "id": "6U7tFd1y3cHQ"
      }
    },
    {
      "cell_type": "code",
      "source": [
        "df.describe()"
      ],
      "metadata": {
        "colab": {
          "base_uri": "https://localhost:8080/",
          "height": 297
        },
        "id": "MDmUu1zi22o6",
        "outputId": "8f39cd01-b695-407d-a0ab-cc3137597d97"
      },
      "execution_count": 11,
      "outputs": [
        {
          "output_type": "execute_result",
          "data": {
            "text/plain": [
              "       temperature\n",
              "count  1152.000000\n",
              "mean     22.172440\n",
              "std      14.858138\n",
              "min       1.893541\n",
              "25%       6.397799\n",
              "50%      22.286165\n",
              "75%      35.196479\n",
              "max      52.536204"
            ],
            "text/html": [
              "\n",
              "  <div id=\"df-6cf16dac-0fd0-4b75-8206-ec2ef0c667a3\">\n",
              "    <div class=\"colab-df-container\">\n",
              "      <div>\n",
              "<style scoped>\n",
              "    .dataframe tbody tr th:only-of-type {\n",
              "        vertical-align: middle;\n",
              "    }\n",
              "\n",
              "    .dataframe tbody tr th {\n",
              "        vertical-align: top;\n",
              "    }\n",
              "\n",
              "    .dataframe thead th {\n",
              "        text-align: right;\n",
              "    }\n",
              "</style>\n",
              "<table border=\"1\" class=\"dataframe\">\n",
              "  <thead>\n",
              "    <tr style=\"text-align: right;\">\n",
              "      <th></th>\n",
              "      <th>temperature</th>\n",
              "    </tr>\n",
              "  </thead>\n",
              "  <tbody>\n",
              "    <tr>\n",
              "      <th>count</th>\n",
              "      <td>1152.000000</td>\n",
              "    </tr>\n",
              "    <tr>\n",
              "      <th>mean</th>\n",
              "      <td>22.172440</td>\n",
              "    </tr>\n",
              "    <tr>\n",
              "      <th>std</th>\n",
              "      <td>14.858138</td>\n",
              "    </tr>\n",
              "    <tr>\n",
              "      <th>min</th>\n",
              "      <td>1.893541</td>\n",
              "    </tr>\n",
              "    <tr>\n",
              "      <th>25%</th>\n",
              "      <td>6.397799</td>\n",
              "    </tr>\n",
              "    <tr>\n",
              "      <th>50%</th>\n",
              "      <td>22.286165</td>\n",
              "    </tr>\n",
              "    <tr>\n",
              "      <th>75%</th>\n",
              "      <td>35.196479</td>\n",
              "    </tr>\n",
              "    <tr>\n",
              "      <th>max</th>\n",
              "      <td>52.536204</td>\n",
              "    </tr>\n",
              "  </tbody>\n",
              "</table>\n",
              "</div>\n",
              "      <button class=\"colab-df-convert\" onclick=\"convertToInteractive('df-6cf16dac-0fd0-4b75-8206-ec2ef0c667a3')\"\n",
              "              title=\"Convert this dataframe to an interactive table.\"\n",
              "              style=\"display:none;\">\n",
              "        \n",
              "  <svg xmlns=\"http://www.w3.org/2000/svg\" height=\"24px\"viewBox=\"0 0 24 24\"\n",
              "       width=\"24px\">\n",
              "    <path d=\"M0 0h24v24H0V0z\" fill=\"none\"/>\n",
              "    <path d=\"M18.56 5.44l.94 2.06.94-2.06 2.06-.94-2.06-.94-.94-2.06-.94 2.06-2.06.94zm-11 1L8.5 8.5l.94-2.06 2.06-.94-2.06-.94L8.5 2.5l-.94 2.06-2.06.94zm10 10l.94 2.06.94-2.06 2.06-.94-2.06-.94-.94-2.06-.94 2.06-2.06.94z\"/><path d=\"M17.41 7.96l-1.37-1.37c-.4-.4-.92-.59-1.43-.59-.52 0-1.04.2-1.43.59L10.3 9.45l-7.72 7.72c-.78.78-.78 2.05 0 2.83L4 21.41c.39.39.9.59 1.41.59.51 0 1.02-.2 1.41-.59l7.78-7.78 2.81-2.81c.8-.78.8-2.07 0-2.86zM5.41 20L4 18.59l7.72-7.72 1.47 1.35L5.41 20z\"/>\n",
              "  </svg>\n",
              "      </button>\n",
              "      \n",
              "  <style>\n",
              "    .colab-df-container {\n",
              "      display:flex;\n",
              "      flex-wrap:wrap;\n",
              "      gap: 12px;\n",
              "    }\n",
              "\n",
              "    .colab-df-convert {\n",
              "      background-color: #E8F0FE;\n",
              "      border: none;\n",
              "      border-radius: 50%;\n",
              "      cursor: pointer;\n",
              "      display: none;\n",
              "      fill: #1967D2;\n",
              "      height: 32px;\n",
              "      padding: 0 0 0 0;\n",
              "      width: 32px;\n",
              "    }\n",
              "\n",
              "    .colab-df-convert:hover {\n",
              "      background-color: #E2EBFA;\n",
              "      box-shadow: 0px 1px 2px rgba(60, 64, 67, 0.3), 0px 1px 3px 1px rgba(60, 64, 67, 0.15);\n",
              "      fill: #174EA6;\n",
              "    }\n",
              "\n",
              "    [theme=dark] .colab-df-convert {\n",
              "      background-color: #3B4455;\n",
              "      fill: #D2E3FC;\n",
              "    }\n",
              "\n",
              "    [theme=dark] .colab-df-convert:hover {\n",
              "      background-color: #434B5C;\n",
              "      box-shadow: 0px 1px 3px 1px rgba(0, 0, 0, 0.15);\n",
              "      filter: drop-shadow(0px 1px 2px rgba(0, 0, 0, 0.3));\n",
              "      fill: #FFFFFF;\n",
              "    }\n",
              "  </style>\n",
              "\n",
              "      <script>\n",
              "        const buttonEl =\n",
              "          document.querySelector('#df-6cf16dac-0fd0-4b75-8206-ec2ef0c667a3 button.colab-df-convert');\n",
              "        buttonEl.style.display =\n",
              "          google.colab.kernel.accessAllowed ? 'block' : 'none';\n",
              "\n",
              "        async function convertToInteractive(key) {\n",
              "          const element = document.querySelector('#df-6cf16dac-0fd0-4b75-8206-ec2ef0c667a3');\n",
              "          const dataTable =\n",
              "            await google.colab.kernel.invokeFunction('convertToInteractive',\n",
              "                                                     [key], {});\n",
              "          if (!dataTable) return;\n",
              "\n",
              "          const docLinkHtml = 'Like what you see? Visit the ' +\n",
              "            '<a target=\"_blank\" href=https://colab.research.google.com/notebooks/data_table.ipynb>data table notebook</a>'\n",
              "            + ' to learn more about interactive tables.';\n",
              "          element.innerHTML = '';\n",
              "          dataTable['output_type'] = 'display_data';\n",
              "          await google.colab.output.renderOutput(dataTable, element);\n",
              "          const docLink = document.createElement('div');\n",
              "          docLink.innerHTML = docLinkHtml;\n",
              "          element.appendChild(docLink);\n",
              "        }\n",
              "      </script>\n",
              "    </div>\n",
              "  </div>\n",
              "  "
            ]
          },
          "metadata": {},
          "execution_count": 11
        }
      ]
    },
    {
      "cell_type": "code",
      "source": [
        "df['datetime'] = pd.to_datetime(df['datetime'])"
      ],
      "metadata": {
        "id": "zub19se3z_PI"
      },
      "execution_count": 12,
      "outputs": []
    },
    {
      "cell_type": "code",
      "source": [
        "df['gearbox'] = df['gearbox'].astype('category')"
      ],
      "metadata": {
        "id": "o778DsXo2SzZ"
      },
      "execution_count": 13,
      "outputs": []
    },
    {
      "cell_type": "markdown",
      "source": [
        "## Exploratory Data Analysis"
      ],
      "metadata": {
        "id": "Z_loRvkw47fx"
      }
    },
    {
      "cell_type": "code",
      "source": [
        "df.isnull().sum()"
      ],
      "metadata": {
        "colab": {
          "base_uri": "https://localhost:8080/"
        },
        "id": "L1FDUcR048sl",
        "outputId": "e5a328f5-6120-4797-b77c-016cf274937e"
      },
      "execution_count": 14,
      "outputs": [
        {
          "output_type": "execute_result",
          "data": {
            "text/plain": [
              "datetime       0\n",
              "temperature    0\n",
              "gearbox        0\n",
              "dtype: int64"
            ]
          },
          "metadata": {},
          "execution_count": 14
        }
      ]
    },
    {
      "cell_type": "code",
      "source": [
        "duplicate_rows_df = df[df.duplicated()]\n",
        "print(f'There are {0} duplicated rows in the dataset'.format(duplicate_rows_df))"
      ],
      "metadata": {
        "colab": {
          "base_uri": "https://localhost:8080/"
        },
        "id": "b45aT-gg5Afw",
        "outputId": "57855597-faba-4e57-d3c1-f55911598825"
      },
      "execution_count": 15,
      "outputs": [
        {
          "output_type": "stream",
          "name": "stdout",
          "text": [
            "There are 0 duplicated rows in the dataset\n"
          ]
        }
      ]
    },
    {
      "cell_type": "markdown",
      "source": [
        "The data set does not contain either missing nor duplicated data."
      ],
      "metadata": {
        "id": "zaXPwb9v5JfA"
      }
    },
    {
      "cell_type": "markdown",
      "source": [
        "## Outliners Visualisation\n",
        "\n"
      ],
      "metadata": {
        "id": "YHyYqTr05POM"
      }
    },
    {
      "cell_type": "code",
      "source": [
        "# Boxplots to get an idea of the distribution/outliers\n",
        "fig = px.box(df, x=\"gearbox\", y=\"temperature\",color = 'gearbox',\n",
        "            title=\"Gearbox bloxpots\",\n",
        "            width=1250, height=600,\n",
        "            labels={\"gearbox\": \"Type of gearbox\", \"temperature\": \"Temperature °C\"},\n",
        "            template=\"simple_white\"\n",
        "            )\n",
        "fig.update_yaxes(showgrid=True)\n",
        "fig.show()"
      ],
      "metadata": {
        "colab": {
          "base_uri": "https://localhost:8080/",
          "height": 617
        },
        "id": "LtMzddBZ5EkO",
        "outputId": "4c214af0-4d6a-43c9-d918-5597c0409828"
      },
      "execution_count": 16,
      "outputs": [
        {
          "output_type": "display_data",
          "data": {
            "text/html": [
              "<html>\n",
              "<head><meta charset=\"utf-8\" /></head>\n",
              "<body>\n",
              "    <div>            <script src=\"https://cdnjs.cloudflare.com/ajax/libs/mathjax/2.7.5/MathJax.js?config=TeX-AMS-MML_SVG\"></script><script type=\"text/javascript\">if (window.MathJax) {MathJax.Hub.Config({SVG: {font: \"STIX-Web\"}});}</script>                <script type=\"text/javascript\">window.PlotlyConfig = {MathJaxConfig: 'local'};</script>\n",
              "        <script src=\"https://cdn.plot.ly/plotly-2.8.3.min.js\"></script>                <div id=\"81bc41f3-abee-4cf5-a083-ed2066540e05\" class=\"plotly-graph-div\" style=\"height:600px; width:1250px;\"></div>            <script type=\"text/javascript\">                                    window.PLOTLYENV=window.PLOTLYENV || {};                                    if (document.getElementById(\"81bc41f3-abee-4cf5-a083-ed2066540e05\")) {                    Plotly.newPlot(                        \"81bc41f3-abee-4cf5-a083-ed2066540e05\",                        [{\"alignmentgroup\":\"True\",\"hovertemplate\":\"Type of gearbox=%{x}<br>Temperature \\u00b0C=%{y}<extra></extra>\",\"legendgroup\":\"A\",\"marker\":{\"color\":\"#1F77B4\"},\"name\":\"A\",\"notched\":false,\"offsetgroup\":\"A\",\"orientation\":\"v\",\"showlegend\":true,\"x\":[\"A\",\"A\",\"A\",\"A\",\"A\",\"A\",\"A\",\"A\",\"A\",\"A\",\"A\",\"A\",\"A\",\"A\",\"A\",\"A\",\"A\",\"A\",\"A\",\"A\",\"A\",\"A\",\"A\",\"A\",\"A\",\"A\",\"A\",\"A\",\"A\",\"A\",\"A\",\"A\",\"A\",\"A\",\"A\",\"A\",\"A\",\"A\",\"A\",\"A\",\"A\",\"A\",\"A\",\"A\",\"A\",\"A\",\"A\",\"A\",\"A\",\"A\",\"A\",\"A\",\"A\",\"A\",\"A\",\"A\",\"A\",\"A\",\"A\",\"A\",\"A\",\"A\",\"A\",\"A\",\"A\",\"A\",\"A\",\"A\",\"A\",\"A\",\"A\",\"A\",\"A\",\"A\",\"A\",\"A\",\"A\",\"A\",\"A\",\"A\",\"A\",\"A\",\"A\",\"A\",\"A\",\"A\",\"A\",\"A\",\"A\",\"A\",\"A\",\"A\",\"A\",\"A\",\"A\",\"A\",\"A\",\"A\",\"A\",\"A\",\"A\",\"A\",\"A\",\"A\",\"A\",\"A\",\"A\",\"A\",\"A\",\"A\",\"A\",\"A\",\"A\",\"A\",\"A\",\"A\",\"A\",\"A\",\"A\",\"A\",\"A\",\"A\",\"A\",\"A\",\"A\",\"A\",\"A\",\"A\",\"A\",\"A\",\"A\",\"A\",\"A\",\"A\",\"A\",\"A\",\"A\",\"A\",\"A\",\"A\",\"A\",\"A\",\"A\",\"A\",\"A\",\"A\",\"A\",\"A\",\"A\",\"A\",\"A\",\"A\",\"A\",\"A\",\"A\",\"A\",\"A\",\"A\",\"A\",\"A\",\"A\",\"A\",\"A\",\"A\",\"A\",\"A\",\"A\",\"A\",\"A\",\"A\",\"A\",\"A\",\"A\",\"A\",\"A\",\"A\",\"A\",\"A\",\"A\",\"A\",\"A\",\"A\",\"A\",\"A\",\"A\",\"A\",\"A\",\"A\",\"A\",\"A\",\"A\",\"A\",\"A\",\"A\",\"A\",\"A\",\"A\",\"A\",\"A\",\"A\",\"A\",\"A\",\"A\",\"A\",\"A\",\"A\",\"A\",\"A\",\"A\",\"A\",\"A\",\"A\",\"A\",\"A\",\"A\",\"A\",\"A\",\"A\",\"A\",\"A\",\"A\",\"A\",\"A\",\"A\",\"A\",\"A\",\"A\",\"A\",\"A\",\"A\",\"A\",\"A\",\"A\",\"A\",\"A\",\"A\",\"A\",\"A\",\"A\",\"A\",\"A\",\"A\",\"A\",\"A\",\"A\",\"A\",\"A\",\"A\",\"A\",\"A\",\"A\",\"A\",\"A\",\"A\",\"A\",\"A\",\"A\",\"A\",\"A\",\"A\",\"A\",\"A\",\"A\",\"A\",\"A\",\"A\",\"A\",\"A\",\"A\",\"A\",\"A\",\"A\",\"A\",\"A\",\"A\",\"A\",\"A\",\"A\",\"A\",\"A\",\"A\",\"A\",\"A\",\"A\",\"A\",\"A\",\"A\",\"A\",\"A\",\"A\",\"A\",\"A\",\"A\",\"A\",\"A\",\"A\",\"A\",\"A\",\"A\",\"A\",\"A\",\"A\",\"A\",\"A\",\"A\",\"A\",\"A\",\"A\",\"A\",\"A\",\"A\",\"A\",\"A\",\"A\",\"A\",\"A\",\"A\",\"A\",\"A\",\"A\",\"A\",\"A\",\"A\",\"A\",\"A\",\"A\",\"A\",\"A\",\"A\",\"A\",\"A\",\"A\",\"A\",\"A\",\"A\",\"A\",\"A\",\"A\",\"A\",\"A\",\"A\",\"A\",\"A\",\"A\",\"A\",\"A\",\"A\",\"A\",\"A\",\"A\",\"A\",\"A\",\"A\",\"A\",\"A\",\"A\",\"A\",\"A\",\"A\",\"A\",\"A\",\"A\",\"A\",\"A\",\"A\",\"A\",\"A\",\"A\",\"A\",\"A\",\"A\",\"A\",\"A\",\"A\",\"A\",\"A\",\"A\",\"A\",\"A\",\"A\",\"A\",\"A\",\"A\",\"A\",\"A\",\"A\",\"A\",\"A\",\"A\",\"A\",\"A\",\"A\",\"A\",\"A\",\"A\",\"A\",\"A\",\"A\",\"A\",\"A\",\"A\",\"A\",\"A\",\"A\",\"A\",\"A\",\"A\",\"A\",\"A\",\"A\",\"A\",\"A\",\"A\",\"A\",\"A\",\"A\",\"A\",\"A\",\"A\",\"A\",\"A\",\"A\",\"A\",\"A\",\"A\",\"A\",\"A\",\"A\",\"A\",\"A\",\"A\",\"A\",\"A\",\"A\",\"A\",\"A\",\"A\",\"A\",\"A\",\"A\",\"A\",\"A\",\"A\",\"A\",\"A\",\"A\",\"A\",\"A\",\"A\",\"A\",\"A\",\"A\",\"A\",\"A\",\"A\",\"A\",\"A\",\"A\",\"A\",\"A\",\"A\",\"A\",\"A\",\"A\",\"A\",\"A\",\"A\",\"A\",\"A\",\"A\",\"A\",\"A\",\"A\",\"A\",\"A\",\"A\",\"A\",\"A\",\"A\",\"A\",\"A\",\"A\",\"A\",\"A\",\"A\",\"A\",\"A\",\"A\",\"A\",\"A\",\"A\",\"A\",\"A\",\"A\",\"A\",\"A\",\"A\",\"A\",\"A\",\"A\",\"A\",\"A\",\"A\",\"A\",\"A\",\"A\",\"A\",\"A\",\"A\",\"A\",\"A\",\"A\",\"A\",\"A\",\"A\",\"A\",\"A\",\"A\",\"A\",\"A\",\"A\",\"A\",\"A\",\"A\",\"A\",\"A\",\"A\",\"A\",\"A\",\"A\",\"A\",\"A\",\"A\",\"A\",\"A\",\"A\",\"A\",\"A\",\"A\",\"A\",\"A\",\"A\",\"A\",\"A\",\"A\",\"A\",\"A\",\"A\",\"A\",\"A\",\"A\",\"A\",\"A\",\"A\",\"A\",\"A\",\"A\",\"A\",\"A\",\"A\",\"A\",\"A\",\"A\",\"A\",\"A\",\"A\",\"A\",\"A\",\"A\",\"A\",\"A\",\"A\",\"A\",\"A\",\"A\",\"A\"],\"x0\":\" \",\"xaxis\":\"x\",\"y\":[2.8521710542715275,2.666520799288016,2.148985609311841,2.851861878893977,2.829642127324085,2.478931657733019,2.365898521858913,2.5577005517327374,2.686717422463894,2.7298775714209884,2.623529534462578,2.849011444912051,2.1745227914334038,2.4156508598720783,2.04148820057694,2.2302076816898397,2.5172213930476373,2.2284363820433337,2.393242429393256,2.405196500207557,2.404421580651704,1.8935409561390009,2.4866251027196307,2.6119568702228158,2.3156196297829177,2.168359280457751,2.904641926530919,2.7648413087878296,3.0418545410498856,2.9163058890533,3.1724865785574194,2.8918632741409063,2.368977775292612,2.3141149610584484,2.3798290551475447,2.619765014999372,2.9691441859075183,2.863977469861248,2.83259261253338,2.58204317493022,2.673510032142481,3.358416545204117,2.5532002462293937,2.950686492682696,2.59200516819174,3.192112513581647,2.5769070620156542,2.037224207219868,2.966816118659703,2.8599233222773432,2.72038209123127,2.8030102018211127,2.867901674532002,2.807705206896651,2.560729051964567,2.148222430671374,2.9702859299613547,3.239989599552459,3.5624989103079816,4.002738043829029,4.098030442078722,4.640298731176292,5.0066652471819335,5.374888384278831,6.399062813799636,6.4886529836233455,6.724850274243939,7.498892273485161,7.017593083091243,7.923013063836752,8.399154903275605,9.881000013816957,9.477378749967768,10.455588883287904,11.072868582362544,11.91047117107172,12.928719848845398,13.331024322867735,13.933695170172829,14.726875333773076,15.681942624885174,15.892308442714498,16.51976746546964,16.947603846649205,16.74950862105341,17.019948772023128,17.379822603261516,16.40322887828251,15.720208447477363,15.026232874641096,14.478974110087552,14.502866314274222,15.990633945503069,15.892222447776213,16.700867852283928,17.54135641408346,17.90595182804746,18.470856471749915,19.16625697364489,19.689949245344557,20.22641124613183,20.999675085391083,21.59714303460329,22.256320180826187,23.266775625619324,23.131618002949423,23.921262827946496,24.05862269021793,24.42576637059837,24.272683454650178,24.385150248776,23.649917106884303,23.44975781109644,23.4616962899725,23.488130184923097,23.678820914966348,24.698727752468915,25.013243814172142,26.293515574127067,27.18289855438741,28.388470720865268,28.420087269644007,28.781688541309755,29.626246902344967,30.07289640362789,30.798637224445404,30.895865632052683,31.17260397801995,31.973486157108752,33.00923884821215,32.42799037556023,31.774641072464703,31.77266228055983,31.189340445549043,30.168115667284574,29.88227536323033,29.946037689545477,29.27671073588264,31.112745657565032,30.43382358744444,31.288678942419697,31.19175630996225,32.30430342104763,31.976020035191954,32.85294736118396,33.31079420803362,34.13456756714963,33.89406413143056,34.52647097760125,35.137040019504326,35.072184021395856,35.22566367365228,34.609588150890566,34.4001054332186,34.343841440289246,33.904150306209274,33.28439578231993,33.62183048094704,32.331769110061806,32.800525659610216,33.25768171266194,33.64082007569704,34.04520137308862,34.457323197109005,35.41327039381955,35.75227998641897,36.47660099269819,36.60039298598549,37.286053021099,36.62165237050214,37.26737795702796,37.44701405267087,37.86196009841487,37.08099443983167,37.45678747832668,36.69197147748342,36.17293311086617,35.55031394125008,34.705957536815866,33.9990855185128,34.036387518776344,34.378630396419744,34.38302054275729,35.08319728518976,35.059279600606615,35.74983707823043,36.0227642187668,36.3882962513269,37.02244995975733,36.47243497935143,36.114882509063214,36.40110845505788,36.25832808555794,35.78731863766212,35.99195307206707,34.984351619045384,34.760606438900034,34.12945345510961,34.12279050198309,33.85865357874513,34.37603818490608,34.83092594169905,34.9545296248229,35.18675115092894,34.63308855894942,33.44365488889017,33.655191886452506,33.084049471351705,32.193903429240066,32.09317913915272,31.379659628783774,31.15857072825999,30.83406602114672,30.14221466232752,29.27353747075095,29.2093415447158,28.699088357806893,28.51489100452624,28.23388510899053,27.65482922279634,26.86952330502507,26.09684113939577,25.722746261880616,25.576098219101063,24.965994971522928,24.40116571109421,23.84192979661077,22.8857102089594,22.522508256921235,21.83280631828012,21.34623304992419,21.66952893940302,20.860534967700755,20.219881332201872,19.868607646642843,18.97276668782353,18.40209851176745,18.216098067512245,17.63184951062967,16.843183144294848,15.99706260986196,15.598752175676744,15.431308330182478,14.821864811194985,14.161092157168662,13.587881984254505,13.003517348055322,12.739845074330258,11.793378934647912,11.13758077084859,11.259595959182064,10.36775926379794,9.77163275039637,9.818014553825954,9.583524145849625,8.452740949879509,8.402896003457201,7.246389795053912,6.867546780584639,6.39400757301979,6.607682806313676,5.894007836634229,5.610127772411213,5.214055564126912,5.151654990814166,4.667328841453652,5.271263859688053,4.457772289729434,3.851104045659117,4.188197104735239,4.198017107844665,3.9142684338769143,3.914911456736295,4.123970080642248,3.679532418500118,3.4817628797734943,3.971417953453744,4.000898487999804,4.350048126367456,4.088219115964986,4.651229511821367,3.8545989380321295,3.632815929923458,3.9023508110077567,4.276956868703967,4.198153996809165,4.186199021774186,4.371112208951165,3.619123948391404,3.689486823539753,4.206658904952921,4.366121424435778,3.8199287616122817,4.1609980521287335,4.059154707917759,3.8545071714918673,4.114989698714698,3.7764134921631847,3.938870131005228,4.335950526017257,3.6753236861865832,4.10470604645903,4.126196453609463,3.566189353759654,4.284069076139888,3.970503351836086,4.045333459647965,4.646663635071,3.87042355136142,4.335450194149336,5.038986634585986,5.616489471934437,5.9472513872755455,6.854667391595799,6.752129247139266,7.49192331817991,8.193432360765405,8.757277665385212,8.15586334060459,9.72560908148112,10.49068384312462,10.69222134476631,11.36424933133723,11.327905741522594,12.613916920994225,12.866168302117694,13.917555815599158,13.763764549713851,14.068198017942883,14.864060131707133,14.946102520163953,16.49781149550681,16.883710016422004,17.16178751937477,17.774217630012515,17.962244771030083,19.081764184248,19.46177708663312,20.03762247485816,20.14527469047807,19.94202718067023,19.76806020112005,18.53614395757068,18.7225426912422,17.88502832744638,17.46320530469134,16.779405704262903,16.678012665255473,16.99304655833529,18.036450803414397,18.708551524790177,19.89671840680198,19.84063977647053,20.957140285169597,21.252249262289094,22.000418831411228,22.787467233796544,24.138585163044947,24.593311803244063,25.79592240579828,26.92903268693063,27.874056776955044,28.01052528360569,28.31898145566773,28.963484606843075,28.502856096790733,27.49087643965229,27.270054258672143,26.2091178969584,26.05830714978842,25.126904145254183,24.769988387780536,24.70652411341979,24.740905497191207,25.33934839357865,26.95736255096965,28.133571061504824,28.549213875224723,29.75325456216334,30.197145693294548,30.177026241927155,31.45465972835647,32.396053385144455,33.619663978276435,34.89252273990687,34.70635044777232,35.37829352820313,35.86416348758827,36.75669262693608,37.363689700049775,37.18357658456592,37.088252352982856,36.9331255033204,35.72055157536573,36.03449212056527,34.57601839640429,33.94708326351243,33.22172300516853,33.32771614281889,32.96722195295081,32.68019965693064,33.97513081767789,34.70126321954661,35.402245679398966,36.113589761966416,37.18557713233339,37.70427931029556,38.69991226417716,39.47757783817509,39.78566923311773,40.89528864343874,41.73438860248626,42.03021796090284,42.59244914627801,42.78373201536466,43.2568048720323,44.041049937066006,43.843198765610815,43.687566109756204,42.9811595214926,42.50498782830344,41.46608938290407,40.60051827531495,39.94341835275384,39.89408560432934,39.24839949109906,39.13987970265523,39.93266263030888,40.53244409377037,41.26389580830413,42.13434777351798,43.24056216341887,42.67638430297898,43.30829293933365,43.56408041115038,43.78002503748456,44.15793396367125,43.91398081748024,43.49244653775979,43.62062155441977,43.14979378245023,42.78050033840739,42.35736753055488,41.5503179941737,41.82967763869708,41.27360765764002,40.544789253460735,40.39505898469596,39.91411409953209,40.60800232974478,40.98904338393014,41.682272725961816,42.2082624854727,42.76705829908125,42.552478241174434,43.709171474928,44.41536819172424,43.9952352940226,44.17386601870795,43.86001822405629,43.221796222024345,43.10939703401595,42.01177537739489,41.90260567955588,40.50058577318247,40.55841724407326,40.08357637964865,38.72802821330654,38.177386257040766,37.80525662575958,37.59268902488648,37.12531165030887,37.32848445809639,37.55187464743247,37.5715892824868,38.31643771408341,39.3718394279499,39.64063600679844,40.12968798673328,40.02537782407215,40.636909034398506,40.78393968784335,40.016028179096445,39.301714603156974,38.505450490624575,37.81847021623648,36.42532793009192,35.82527030492056,35.53744254371697,35.079396592878,34.30888877796614,33.46531672413082,32.929531489755945,32.16782417070956,31.54071614010693,30.65823129702581,30.621119267443927,30.07463804654728,30.102503906252284,28.80901016652582,29.368322892135136,28.3471317757682,28.21483165187,28.10221330880772,27.51069071990878,27.286308263830588,26.45723057465474,26.180020857368326,25.622082126081416,25.26316334897511,24.46948561030092,23.685050393878083,23.336485331897823,23.209524177272414,22.95418325300456,21.733160352294835,22.33450159957605,21.664023330825223,21.4374324544172,20.998371671698347,20.541036068821857,19.738342314600683,19.407689391693832,18.780874615535552,17.99408370263287,18.23249740545359,18.166854968356176,16.693148931520415,16.9346371941312,15.983524044306282,15.459970593798213,14.784735280500408,14.49587216954526,14.274726110443508,13.590384785324211,12.95069149940438,12.819730976286856,12.054042908787553,11.269915471806565,10.41676837307185,10.761841587928698,9.965047899548848,10.33104119434479,9.798509420644608,8.821508305122576,8.56032201146643,8.028080922046025,8.326464777316788,6.827069497172989,7.596498142101121,7.211777500957056,7.174299106825706,6.805847213970735,7.133286693555701,5.712928954387501,6.080725321954368,6.463275397714435,6.486868195995469,6.6900544601614245,6.605682021306607,6.5021483551899815,6.807719507857282,6.660168905203582,6.249084224501437,6.235321574363865,6.11031062921649,5.694014081311443,5.817024442158491,6.263087340207082,6.195539905509307,5.218331532985652,5.921036733376996,5.921618908734775,6.070441079678356,5.796398744979462,5.193201607625612],\"y0\":\" \",\"yaxis\":\"y\",\"type\":\"box\"},{\"alignmentgroup\":\"True\",\"hovertemplate\":\"Type of gearbox=%{x}<br>Temperature \\u00b0C=%{y}<extra></extra>\",\"legendgroup\":\"B\",\"marker\":{\"color\":\"#FF7F0E\"},\"name\":\"B\",\"notched\":false,\"offsetgroup\":\"B\",\"orientation\":\"v\",\"showlegend\":true,\"x\":[\"B\",\"B\",\"B\",\"B\",\"B\",\"B\",\"B\",\"B\",\"B\",\"B\",\"B\",\"B\",\"B\",\"B\",\"B\",\"B\",\"B\",\"B\",\"B\",\"B\",\"B\",\"B\",\"B\",\"B\",\"B\",\"B\",\"B\",\"B\",\"B\",\"B\",\"B\",\"B\",\"B\",\"B\",\"B\",\"B\",\"B\",\"B\",\"B\",\"B\",\"B\",\"B\",\"B\",\"B\",\"B\",\"B\",\"B\",\"B\",\"B\",\"B\",\"B\",\"B\",\"B\",\"B\",\"B\",\"B\",\"B\",\"B\",\"B\",\"B\",\"B\",\"B\",\"B\",\"B\",\"B\",\"B\",\"B\",\"B\",\"B\",\"B\",\"B\",\"B\",\"B\",\"B\",\"B\",\"B\",\"B\",\"B\",\"B\",\"B\",\"B\",\"B\",\"B\",\"B\",\"B\",\"B\",\"B\",\"B\",\"B\",\"B\",\"B\",\"B\",\"B\",\"B\",\"B\",\"B\",\"B\",\"B\",\"B\",\"B\",\"B\",\"B\",\"B\",\"B\",\"B\",\"B\",\"B\",\"B\",\"B\",\"B\",\"B\",\"B\",\"B\",\"B\",\"B\",\"B\",\"B\",\"B\",\"B\",\"B\",\"B\",\"B\",\"B\",\"B\",\"B\",\"B\",\"B\",\"B\",\"B\",\"B\",\"B\",\"B\",\"B\",\"B\",\"B\",\"B\",\"B\",\"B\",\"B\",\"B\",\"B\",\"B\",\"B\",\"B\",\"B\",\"B\",\"B\",\"B\",\"B\",\"B\",\"B\",\"B\",\"B\",\"B\",\"B\",\"B\",\"B\",\"B\",\"B\",\"B\",\"B\",\"B\",\"B\",\"B\",\"B\",\"B\",\"B\",\"B\",\"B\",\"B\",\"B\",\"B\",\"B\",\"B\",\"B\",\"B\",\"B\",\"B\",\"B\",\"B\",\"B\",\"B\",\"B\",\"B\",\"B\",\"B\",\"B\",\"B\",\"B\",\"B\",\"B\",\"B\",\"B\",\"B\",\"B\",\"B\",\"B\",\"B\",\"B\",\"B\",\"B\",\"B\",\"B\",\"B\",\"B\",\"B\",\"B\",\"B\",\"B\",\"B\",\"B\",\"B\",\"B\",\"B\",\"B\",\"B\",\"B\",\"B\",\"B\",\"B\",\"B\",\"B\",\"B\",\"B\",\"B\",\"B\",\"B\",\"B\",\"B\",\"B\",\"B\",\"B\",\"B\",\"B\",\"B\",\"B\",\"B\",\"B\",\"B\",\"B\",\"B\",\"B\",\"B\",\"B\",\"B\",\"B\",\"B\",\"B\",\"B\",\"B\",\"B\",\"B\",\"B\",\"B\",\"B\",\"B\",\"B\",\"B\",\"B\",\"B\",\"B\",\"B\",\"B\",\"B\",\"B\",\"B\",\"B\",\"B\",\"B\",\"B\",\"B\",\"B\",\"B\",\"B\",\"B\",\"B\",\"B\",\"B\",\"B\",\"B\",\"B\",\"B\",\"B\",\"B\",\"B\",\"B\",\"B\",\"B\",\"B\",\"B\",\"B\",\"B\",\"B\",\"B\",\"B\",\"B\",\"B\",\"B\",\"B\",\"B\",\"B\",\"B\",\"B\",\"B\",\"B\",\"B\",\"B\",\"B\",\"B\",\"B\",\"B\",\"B\",\"B\",\"B\",\"B\",\"B\",\"B\",\"B\",\"B\",\"B\",\"B\",\"B\",\"B\",\"B\",\"B\",\"B\",\"B\",\"B\",\"B\",\"B\",\"B\",\"B\",\"B\",\"B\",\"B\",\"B\",\"B\",\"B\",\"B\",\"B\",\"B\",\"B\",\"B\",\"B\",\"B\",\"B\",\"B\",\"B\",\"B\",\"B\",\"B\",\"B\",\"B\",\"B\",\"B\",\"B\",\"B\",\"B\",\"B\",\"B\",\"B\",\"B\",\"B\",\"B\",\"B\",\"B\",\"B\",\"B\",\"B\",\"B\",\"B\",\"B\",\"B\",\"B\",\"B\",\"B\",\"B\",\"B\",\"B\",\"B\",\"B\",\"B\",\"B\",\"B\",\"B\",\"B\",\"B\",\"B\",\"B\",\"B\",\"B\",\"B\",\"B\",\"B\",\"B\",\"B\",\"B\",\"B\",\"B\",\"B\",\"B\",\"B\",\"B\",\"B\",\"B\",\"B\",\"B\",\"B\",\"B\",\"B\",\"B\",\"B\",\"B\",\"B\",\"B\",\"B\",\"B\",\"B\",\"B\",\"B\",\"B\",\"B\",\"B\",\"B\",\"B\",\"B\",\"B\",\"B\",\"B\",\"B\",\"B\",\"B\",\"B\",\"B\",\"B\",\"B\",\"B\",\"B\",\"B\",\"B\",\"B\",\"B\",\"B\",\"B\",\"B\",\"B\",\"B\",\"B\",\"B\",\"B\",\"B\",\"B\",\"B\",\"B\",\"B\",\"B\",\"B\",\"B\",\"B\",\"B\",\"B\",\"B\",\"B\",\"B\",\"B\",\"B\",\"B\",\"B\",\"B\",\"B\",\"B\",\"B\",\"B\",\"B\",\"B\",\"B\",\"B\",\"B\",\"B\",\"B\",\"B\",\"B\",\"B\",\"B\",\"B\",\"B\",\"B\",\"B\",\"B\",\"B\",\"B\",\"B\",\"B\",\"B\",\"B\",\"B\",\"B\",\"B\",\"B\",\"B\",\"B\",\"B\",\"B\",\"B\",\"B\",\"B\",\"B\",\"B\",\"B\",\"B\",\"B\",\"B\",\"B\",\"B\",\"B\",\"B\",\"B\",\"B\",\"B\",\"B\",\"B\",\"B\",\"B\",\"B\",\"B\",\"B\",\"B\",\"B\",\"B\",\"B\",\"B\",\"B\",\"B\",\"B\",\"B\",\"B\",\"B\",\"B\",\"B\",\"B\",\"B\",\"B\",\"B\",\"B\",\"B\",\"B\",\"B\",\"B\",\"B\",\"B\",\"B\",\"B\",\"B\",\"B\",\"B\",\"B\",\"B\",\"B\",\"B\",\"B\",\"B\",\"B\",\"B\",\"B\",\"B\",\"B\",\"B\",\"B\",\"B\",\"B\",\"B\",\"B\",\"B\",\"B\",\"B\",\"B\"],\"x0\":\" \",\"xaxis\":\"x\",\"y\":[3.6263513982983766,3.4175098183691195,3.465569821870299,3.435893557915109,3.2180388241925515,3.415204931378761,3.7057838335914313,3.755501224449139,3.1925992701289583,3.711786988945653,3.375273023816813,3.444458361959277,2.9968259476930315,3.5740083693001576,3.827314376343914,2.854659994985452,3.758807652019029,3.3539887229457466,3.4274623093928955,3.577130517909472,3.189116520572145,3.592053911226242,3.3941341836255816,3.192190359464932,3.0657598003764845,3.233166414535286,3.467650003797285,3.8579740929100494,3.373858953130816,3.5039116041272296,3.2663816805739345,3.7738106131060696,2.8693520325352417,2.7289905350705563,3.0126810103242043,2.674689153924492,3.295525693239231,2.628295824268827,2.4610535067478017,2.2681200456469512,2.2763093586568437,2.492831481478889,2.4042983360438965,2.5055062458628883,2.3091891089959766,2.956891518171571,2.4772101860918863,2.549595244350256,2.59391751910844,2.4401317186801244,2.452445930497529,3.0091358934826538,2.5822764339760758,3.1859263278406877,2.3581176262377794,3.0258333617096813,3.0101520566085127,2.5849908332013145,2.666007561893474,2.969979121951887,2.327646788694092,2.43098531695346,2.367497298398523,3.007805185835973,3.397239770687527,3.472053607364169,3.822371118280397,4.0958695000577965,4.534839649992632,4.705838862412402,5.317353423670076,5.5047243929477565,6.09200466638528,6.448476788193621,7.426354976585278,7.781292029110308,7.833150874140609,8.80983048023673,9.965311767292702,10.300596804430969,10.190492626919587,11.553659759885244,12.544418153501622,12.746599370793088,13.33952585998808,13.764630916317802,15.048738171256112,15.24442044574584,16.6178329337292,16.82263741953426,16.86448609320992,17.261700765675947,18.46416408623831,18.299314686129087,18.97731387955688,19.04910910573357,20.216012307239435,21.026871095387285,21.99480625332356,22.839125202298927,23.62692592530765,24.15936086924496,24.22980359448292,24.47112289832449,23.78596248791103,23.900317956191195,23.258970470097186,23.331584910246747,22.679269039123888,22.41033769221349,22.227182000373134,22.43758065118832,22.83812173739467,24.219016125330267,24.13257552521652,25.32669804936653,26.57131837458563,26.697441351392925,27.444478304513563,27.907845898899797,27.843060876778143,27.95441462700208,27.194422795523973,27.058716634758795,26.958832172108902,26.09870414267849,26.278477463851537,26.252805555210564,27.03792048054977,27.66241369701332,28.70333428174311,29.28160631011462,29.97223308441316,31.29062370334003,31.674336341902944,32.05023397153998,33.382659902632064,33.58411626052865,35.37712496106247,35.32509971652939,35.72246359215948,36.253674123197,37.21468807630779,36.64290093800822,37.126273650169054,36.66067628194902,35.78007490248426,35.82305871819258,35.18033832973567,34.918261197905,35.33071618432396,35.02653790058414,35.98273138805346,36.26688626090718,36.97503503677718,37.036825789811424,37.442443383754,38.40842402895937,38.49735562728438,39.38841780117036,39.7780237400377,40.01757350471869,40.152668219009286,39.68285721398001,39.80990935737263,39.55516839460337,38.71907029349968,38.66109851637651,38.82024878012495,38.4272323569272,38.94212734952874,39.34287412088517,39.369559144515776,40.23735421148199,40.50482582179027,40.639644241527606,40.24708459274304,41.47705603616272,41.26989091378358,41.542674844616776,41.65108706822937,41.63816597240231,41.58480430235502,41.46079144876659,41.60081967317401,40.256555799201685,40.15303560892074,40.04695939456499,40.00635410295399,38.89412674205192,38.501328110388926,39.81582757581514,39.0625583010957,39.83349143515103,39.97587872050832,40.21210821378649,40.117592269375336,39.98434567405774,39.955222792132695,39.85397158804925,39.87454912791591,39.41201215422107,39.49086091946188,38.67053961724803,38.00542196473226,36.92542804327789,36.71044891892199,36.262497985296775,35.94172725339104,34.47188197993161,33.965284012460415,33.661758687812366,32.95657743571236,32.60791172503298,32.4812617239989,31.675616903497545,30.812716246143445,30.48945543365537,29.665384786578283,29.21038653855739,29.397130516044506,28.7442748971508,27.718780829654428,27.141361472455166,26.630332803109876,26.343804124028637,25.537978289219737,25.28316503999579,24.41739318853006,24.36587625979092,23.38187339504739,23.527166713902396,22.72275120392681,22.174489510321784,21.87465912576584,21.44011518694025,20.926470396837058,20.806677068280678,20.404732769918887,19.579526418688943,19.367480584170384,19.042496609733192,18.08975082123356,17.577649266812916,17.0086079366785,16.122237711384788,15.718542116903686,15.09444091406707,15.28182904189191,14.29417133748673,14.172167150415394,13.396380785978558,13.132670896089143,12.640769143309386,12.533887724865409,11.733789971983422,10.896975171378676,10.223444474784491,9.570875734037418,9.649986719651451,9.020485059262905,8.77356821334385,7.866231505974999,7.613430081363894,6.834031614165836,6.510770731107843,5.865644662981518,5.4290426656283,5.016725016213517,4.662836538073865,4.80039417941617,4.714835994504975,5.103865285847366,4.624150566839338,4.320342741940186,4.599289367001603,4.082221989270365,4.586528454690358,4.631399856152814,5.266572913883543,4.377401024118977,4.701579653494497,4.49636253153986,4.8846878986770985,4.543814036303764,5.073424068231804,4.771322299094638,4.25437460176521,4.788580508296469,4.362648482229323,4.659901615898561,4.852033238567151,3.869965051080397,3.976125625588328,4.811116460850695,4.208887361036124,4.08004844056044,4.2647487049853305,3.899129146323183,4.593703130088757,5.0372675957719135,4.602106135841433,4.413693414824709,3.890893484179978,4.115785450699322,5.03166757704569,3.913993478944743,4.61745798959652,4.713424785450621,5.608311619809348,6.419014889436615,6.919463913332813,7.017285019482848,8.428045862881168,8.140019644526168,9.243588430360155,9.493905650148353,10.570018508340862,10.13127893107424,10.779108616279,11.484970703243526,11.258347688765168,11.624872078903588,12.636838075629008,13.136095659220024,13.051935108796998,13.814495620510964,13.486974194822784,14.489007151685174,14.546547847365574,15.016758886202975,15.80007785029182,15.29442470108605,16.77839930597897,17.218414145064575,17.773614556296955,18.121524067712446,18.57823135996709,19.593809932250803,19.74555986107872,20.76140521207129,20.83133031809809,20.970833434028023,22.3567879083403,22.065937477860647,22.4757543229831,22.75244083205173,23.83095002654329,24.2572010843444,24.76121814541496,25.38887720661579,25.467361594230965,25.42274007896628,25.217951017723248,25.328467589499606,24.76541888895717,24.35538814020971,24.09691040378048,24.89784491586642,25.646739095995656,26.78146594088018,27.57239463851852,27.400323310777413,28.298146705160686,29.312945783375163,29.842542742860555,30.52215890204148,30.67931143206299,30.915220689358723,31.40095073547034,31.5228908151131,32.100924285118744,31.701475863208287,31.467224242057085,31.863984556766766,32.651348793731984,32.962254984176894,33.638442611023834,35.17862335356232,35.885019110497645,36.20916569501699,37.1911380410365,37.81638239831557,38.4758632410143,38.74887230436373,39.67457662717269,40.25579868599716,40.95435861211478,41.16643890332734,41.43923114351215,41.98061337557231,41.698089261820265,41.55580537513541,41.66234718338104,41.15222277834143,41.18234367874148,41.34171518142541,42.79331807282703,44.041899762606846,44.60788247206294,45.03223983445556,45.75357799299793,46.02938241268999,46.347448083031615,46.989738045441726,47.31053221893246,46.88408479642552,46.84232385323729,45.87253082193017,44.988419291781234,45.662398288586935,46.22244395392338,46.75973160840606,46.8181398474516,47.31671929711749,47.912182463001045,48.098352179136434,48.965959828156,49.50056084171423,48.99409802086322,48.85491956849471,49.13058671511593,48.74881930554328,48.98624241511631,48.33583399483643,48.44992455188503,48.157231769763946,48.58568395209623,49.66824086516346,49.61011602946639,50.74960725743367,50.452390161027125,51.27428241829253,51.540261749187096,51.51776369305758,51.57087807372682,51.35492124450726,51.31932907778292,50.8435418139528,50.09146159392612,49.954116365211135,49.79176331374886,50.035390170288906,50.39688245257434,50.38440818702527,51.08176648380013,51.67408540077619,51.78197097779664,52.40906531117967,52.47313237838884,52.53620352859205,52.25383312148332,51.95248329429283,51.76075238497279,51.34053999573299,50.83308245164271,49.94851662171915,48.67820937380792,48.2725345030485,47.37336026528296,47.42499526938664,46.69090444943777,45.8132765591856,45.83216073921875,44.79769950034864,43.70094432171685,43.96594663079778,42.724406153998025,41.90879567226729,41.94982942026104,41.22178871063441,40.55236710085543,39.96302216226863,39.14308905568858,38.67734878373257,38.3547545106992,37.29229283007793,36.773625466249264,35.97836259688842,35.10384565440267,35.07280128259332,34.40955671170173,33.49791003495246,32.88004540580894,32.851379531741486,31.346566264780485,31.728061540309245,31.121274458981286,30.82949434321755,29.847970444230512,29.238542614276756,28.62693351020905,28.10277358989449,27.446201198658336,27.136514642620234,25.873260358080817,25.451163826032783,25.09898740576624,24.72126600328944,24.402244777917787,23.3024089244173,22.31601071595915,21.85651401693266,21.45505140481249,20.42924989514117,20.111218349707187,19.032493053989235,18.422079201632563,18.24081963152378,17.180987164506448,17.052747164534935,16.608728561673953,16.20145802030566,15.288685547341773,15.219032808189375,14.568965340140815,13.162905898542537,12.662762861386948,12.624167098751832,12.38596523823021,11.423239738005655,11.11937863327966,10.652940936325788,9.846518637079912,10.052059852617472,9.034918357779516,8.770918653706481,8.410937660043563,8.540967982824045,8.133578005023123,7.882691099599111,7.159174822327385,7.541923826894711,7.371530139196132,6.779912448634146,6.861270415302423,5.982867797972831,6.254535727703963,6.176360395321644,5.683316447755661,5.887738955313647,5.992444014150277,6.54249835562014,6.04987377097494,6.152166577159628,6.010177721822042,5.634107945645011,6.039148950386512,6.150401496970531,6.212801640145683,6.009777706676354,6.364792872588819,6.208766622158113,5.982844930139983,5.872184621497525,5.807097841416765,5.376620773795986,6.295788673698909,6.390053730795218,6.01097633424115,6.337304914598793,6.281798211049764,5.909051864809189,5.756292063468823,5.290482791518813,5.492404007433028,4.95570091740447,5.757451728670849,5.002117747237528,4.7734358986622665,5.294648414842498,4.851092966656102,4.883003219046046,5.056080235695303,4.055146970174394,4.59248072098027],\"y0\":\" \",\"yaxis\":\"y\",\"type\":\"box\"}],                        {\"template\":{\"data\":{\"barpolar\":[{\"marker\":{\"line\":{\"color\":\"white\",\"width\":0.5},\"pattern\":{\"fillmode\":\"overlay\",\"size\":10,\"solidity\":0.2}},\"type\":\"barpolar\"}],\"bar\":[{\"error_x\":{\"color\":\"rgb(36,36,36)\"},\"error_y\":{\"color\":\"rgb(36,36,36)\"},\"marker\":{\"line\":{\"color\":\"white\",\"width\":0.5},\"pattern\":{\"fillmode\":\"overlay\",\"size\":10,\"solidity\":0.2}},\"type\":\"bar\"}],\"carpet\":[{\"aaxis\":{\"endlinecolor\":\"rgb(36,36,36)\",\"gridcolor\":\"white\",\"linecolor\":\"white\",\"minorgridcolor\":\"white\",\"startlinecolor\":\"rgb(36,36,36)\"},\"baxis\":{\"endlinecolor\":\"rgb(36,36,36)\",\"gridcolor\":\"white\",\"linecolor\":\"white\",\"minorgridcolor\":\"white\",\"startlinecolor\":\"rgb(36,36,36)\"},\"type\":\"carpet\"}],\"choropleth\":[{\"colorbar\":{\"outlinewidth\":1,\"tickcolor\":\"rgb(36,36,36)\",\"ticks\":\"outside\"},\"type\":\"choropleth\"}],\"contourcarpet\":[{\"colorbar\":{\"outlinewidth\":1,\"tickcolor\":\"rgb(36,36,36)\",\"ticks\":\"outside\"},\"type\":\"contourcarpet\"}],\"contour\":[{\"colorbar\":{\"outlinewidth\":1,\"tickcolor\":\"rgb(36,36,36)\",\"ticks\":\"outside\"},\"colorscale\":[[0.0,\"#440154\"],[0.1111111111111111,\"#482878\"],[0.2222222222222222,\"#3e4989\"],[0.3333333333333333,\"#31688e\"],[0.4444444444444444,\"#26828e\"],[0.5555555555555556,\"#1f9e89\"],[0.6666666666666666,\"#35b779\"],[0.7777777777777778,\"#6ece58\"],[0.8888888888888888,\"#b5de2b\"],[1.0,\"#fde725\"]],\"type\":\"contour\"}],\"heatmapgl\":[{\"colorbar\":{\"outlinewidth\":1,\"tickcolor\":\"rgb(36,36,36)\",\"ticks\":\"outside\"},\"colorscale\":[[0.0,\"#440154\"],[0.1111111111111111,\"#482878\"],[0.2222222222222222,\"#3e4989\"],[0.3333333333333333,\"#31688e\"],[0.4444444444444444,\"#26828e\"],[0.5555555555555556,\"#1f9e89\"],[0.6666666666666666,\"#35b779\"],[0.7777777777777778,\"#6ece58\"],[0.8888888888888888,\"#b5de2b\"],[1.0,\"#fde725\"]],\"type\":\"heatmapgl\"}],\"heatmap\":[{\"colorbar\":{\"outlinewidth\":1,\"tickcolor\":\"rgb(36,36,36)\",\"ticks\":\"outside\"},\"colorscale\":[[0.0,\"#440154\"],[0.1111111111111111,\"#482878\"],[0.2222222222222222,\"#3e4989\"],[0.3333333333333333,\"#31688e\"],[0.4444444444444444,\"#26828e\"],[0.5555555555555556,\"#1f9e89\"],[0.6666666666666666,\"#35b779\"],[0.7777777777777778,\"#6ece58\"],[0.8888888888888888,\"#b5de2b\"],[1.0,\"#fde725\"]],\"type\":\"heatmap\"}],\"histogram2dcontour\":[{\"colorbar\":{\"outlinewidth\":1,\"tickcolor\":\"rgb(36,36,36)\",\"ticks\":\"outside\"},\"colorscale\":[[0.0,\"#440154\"],[0.1111111111111111,\"#482878\"],[0.2222222222222222,\"#3e4989\"],[0.3333333333333333,\"#31688e\"],[0.4444444444444444,\"#26828e\"],[0.5555555555555556,\"#1f9e89\"],[0.6666666666666666,\"#35b779\"],[0.7777777777777778,\"#6ece58\"],[0.8888888888888888,\"#b5de2b\"],[1.0,\"#fde725\"]],\"type\":\"histogram2dcontour\"}],\"histogram2d\":[{\"colorbar\":{\"outlinewidth\":1,\"tickcolor\":\"rgb(36,36,36)\",\"ticks\":\"outside\"},\"colorscale\":[[0.0,\"#440154\"],[0.1111111111111111,\"#482878\"],[0.2222222222222222,\"#3e4989\"],[0.3333333333333333,\"#31688e\"],[0.4444444444444444,\"#26828e\"],[0.5555555555555556,\"#1f9e89\"],[0.6666666666666666,\"#35b779\"],[0.7777777777777778,\"#6ece58\"],[0.8888888888888888,\"#b5de2b\"],[1.0,\"#fde725\"]],\"type\":\"histogram2d\"}],\"histogram\":[{\"marker\":{\"line\":{\"color\":\"white\",\"width\":0.6}},\"type\":\"histogram\"}],\"mesh3d\":[{\"colorbar\":{\"outlinewidth\":1,\"tickcolor\":\"rgb(36,36,36)\",\"ticks\":\"outside\"},\"type\":\"mesh3d\"}],\"parcoords\":[{\"line\":{\"colorbar\":{\"outlinewidth\":1,\"tickcolor\":\"rgb(36,36,36)\",\"ticks\":\"outside\"}},\"type\":\"parcoords\"}],\"pie\":[{\"automargin\":true,\"type\":\"pie\"}],\"scatter3d\":[{\"line\":{\"colorbar\":{\"outlinewidth\":1,\"tickcolor\":\"rgb(36,36,36)\",\"ticks\":\"outside\"}},\"marker\":{\"colorbar\":{\"outlinewidth\":1,\"tickcolor\":\"rgb(36,36,36)\",\"ticks\":\"outside\"}},\"type\":\"scatter3d\"}],\"scattercarpet\":[{\"marker\":{\"colorbar\":{\"outlinewidth\":1,\"tickcolor\":\"rgb(36,36,36)\",\"ticks\":\"outside\"}},\"type\":\"scattercarpet\"}],\"scattergeo\":[{\"marker\":{\"colorbar\":{\"outlinewidth\":1,\"tickcolor\":\"rgb(36,36,36)\",\"ticks\":\"outside\"}},\"type\":\"scattergeo\"}],\"scattergl\":[{\"marker\":{\"colorbar\":{\"outlinewidth\":1,\"tickcolor\":\"rgb(36,36,36)\",\"ticks\":\"outside\"}},\"type\":\"scattergl\"}],\"scattermapbox\":[{\"marker\":{\"colorbar\":{\"outlinewidth\":1,\"tickcolor\":\"rgb(36,36,36)\",\"ticks\":\"outside\"}},\"type\":\"scattermapbox\"}],\"scatterpolargl\":[{\"marker\":{\"colorbar\":{\"outlinewidth\":1,\"tickcolor\":\"rgb(36,36,36)\",\"ticks\":\"outside\"}},\"type\":\"scatterpolargl\"}],\"scatterpolar\":[{\"marker\":{\"colorbar\":{\"outlinewidth\":1,\"tickcolor\":\"rgb(36,36,36)\",\"ticks\":\"outside\"}},\"type\":\"scatterpolar\"}],\"scatter\":[{\"marker\":{\"colorbar\":{\"outlinewidth\":1,\"tickcolor\":\"rgb(36,36,36)\",\"ticks\":\"outside\"}},\"type\":\"scatter\"}],\"scatterternary\":[{\"marker\":{\"colorbar\":{\"outlinewidth\":1,\"tickcolor\":\"rgb(36,36,36)\",\"ticks\":\"outside\"}},\"type\":\"scatterternary\"}],\"surface\":[{\"colorbar\":{\"outlinewidth\":1,\"tickcolor\":\"rgb(36,36,36)\",\"ticks\":\"outside\"},\"colorscale\":[[0.0,\"#440154\"],[0.1111111111111111,\"#482878\"],[0.2222222222222222,\"#3e4989\"],[0.3333333333333333,\"#31688e\"],[0.4444444444444444,\"#26828e\"],[0.5555555555555556,\"#1f9e89\"],[0.6666666666666666,\"#35b779\"],[0.7777777777777778,\"#6ece58\"],[0.8888888888888888,\"#b5de2b\"],[1.0,\"#fde725\"]],\"type\":\"surface\"}],\"table\":[{\"cells\":{\"fill\":{\"color\":\"rgb(237,237,237)\"},\"line\":{\"color\":\"white\"}},\"header\":{\"fill\":{\"color\":\"rgb(217,217,217)\"},\"line\":{\"color\":\"white\"}},\"type\":\"table\"}]},\"layout\":{\"annotationdefaults\":{\"arrowhead\":0,\"arrowwidth\":1},\"autotypenumbers\":\"strict\",\"coloraxis\":{\"colorbar\":{\"outlinewidth\":1,\"tickcolor\":\"rgb(36,36,36)\",\"ticks\":\"outside\"}},\"colorscale\":{\"diverging\":[[0.0,\"rgb(103,0,31)\"],[0.1,\"rgb(178,24,43)\"],[0.2,\"rgb(214,96,77)\"],[0.3,\"rgb(244,165,130)\"],[0.4,\"rgb(253,219,199)\"],[0.5,\"rgb(247,247,247)\"],[0.6,\"rgb(209,229,240)\"],[0.7,\"rgb(146,197,222)\"],[0.8,\"rgb(67,147,195)\"],[0.9,\"rgb(33,102,172)\"],[1.0,\"rgb(5,48,97)\"]],\"sequential\":[[0.0,\"#440154\"],[0.1111111111111111,\"#482878\"],[0.2222222222222222,\"#3e4989\"],[0.3333333333333333,\"#31688e\"],[0.4444444444444444,\"#26828e\"],[0.5555555555555556,\"#1f9e89\"],[0.6666666666666666,\"#35b779\"],[0.7777777777777778,\"#6ece58\"],[0.8888888888888888,\"#b5de2b\"],[1.0,\"#fde725\"]],\"sequentialminus\":[[0.0,\"#440154\"],[0.1111111111111111,\"#482878\"],[0.2222222222222222,\"#3e4989\"],[0.3333333333333333,\"#31688e\"],[0.4444444444444444,\"#26828e\"],[0.5555555555555556,\"#1f9e89\"],[0.6666666666666666,\"#35b779\"],[0.7777777777777778,\"#6ece58\"],[0.8888888888888888,\"#b5de2b\"],[1.0,\"#fde725\"]]},\"colorway\":[\"#1F77B4\",\"#FF7F0E\",\"#2CA02C\",\"#D62728\",\"#9467BD\",\"#8C564B\",\"#E377C2\",\"#7F7F7F\",\"#BCBD22\",\"#17BECF\"],\"font\":{\"color\":\"rgb(36,36,36)\"},\"geo\":{\"bgcolor\":\"white\",\"lakecolor\":\"white\",\"landcolor\":\"white\",\"showlakes\":true,\"showland\":true,\"subunitcolor\":\"white\"},\"hoverlabel\":{\"align\":\"left\"},\"hovermode\":\"closest\",\"mapbox\":{\"style\":\"light\"},\"paper_bgcolor\":\"white\",\"plot_bgcolor\":\"white\",\"polar\":{\"angularaxis\":{\"gridcolor\":\"rgb(232,232,232)\",\"linecolor\":\"rgb(36,36,36)\",\"showgrid\":false,\"showline\":true,\"ticks\":\"outside\"},\"bgcolor\":\"white\",\"radialaxis\":{\"gridcolor\":\"rgb(232,232,232)\",\"linecolor\":\"rgb(36,36,36)\",\"showgrid\":false,\"showline\":true,\"ticks\":\"outside\"}},\"scene\":{\"xaxis\":{\"backgroundcolor\":\"white\",\"gridcolor\":\"rgb(232,232,232)\",\"gridwidth\":2,\"linecolor\":\"rgb(36,36,36)\",\"showbackground\":true,\"showgrid\":false,\"showline\":true,\"ticks\":\"outside\",\"zeroline\":false,\"zerolinecolor\":\"rgb(36,36,36)\"},\"yaxis\":{\"backgroundcolor\":\"white\",\"gridcolor\":\"rgb(232,232,232)\",\"gridwidth\":2,\"linecolor\":\"rgb(36,36,36)\",\"showbackground\":true,\"showgrid\":false,\"showline\":true,\"ticks\":\"outside\",\"zeroline\":false,\"zerolinecolor\":\"rgb(36,36,36)\"},\"zaxis\":{\"backgroundcolor\":\"white\",\"gridcolor\":\"rgb(232,232,232)\",\"gridwidth\":2,\"linecolor\":\"rgb(36,36,36)\",\"showbackground\":true,\"showgrid\":false,\"showline\":true,\"ticks\":\"outside\",\"zeroline\":false,\"zerolinecolor\":\"rgb(36,36,36)\"}},\"shapedefaults\":{\"fillcolor\":\"black\",\"line\":{\"width\":0},\"opacity\":0.3},\"ternary\":{\"aaxis\":{\"gridcolor\":\"rgb(232,232,232)\",\"linecolor\":\"rgb(36,36,36)\",\"showgrid\":false,\"showline\":true,\"ticks\":\"outside\"},\"baxis\":{\"gridcolor\":\"rgb(232,232,232)\",\"linecolor\":\"rgb(36,36,36)\",\"showgrid\":false,\"showline\":true,\"ticks\":\"outside\"},\"bgcolor\":\"white\",\"caxis\":{\"gridcolor\":\"rgb(232,232,232)\",\"linecolor\":\"rgb(36,36,36)\",\"showgrid\":false,\"showline\":true,\"ticks\":\"outside\"}},\"title\":{\"x\":0.05},\"xaxis\":{\"automargin\":true,\"gridcolor\":\"rgb(232,232,232)\",\"linecolor\":\"rgb(36,36,36)\",\"showgrid\":false,\"showline\":true,\"ticks\":\"outside\",\"title\":{\"standoff\":15},\"zeroline\":false,\"zerolinecolor\":\"rgb(36,36,36)\"},\"yaxis\":{\"automargin\":true,\"gridcolor\":\"rgb(232,232,232)\",\"linecolor\":\"rgb(36,36,36)\",\"showgrid\":false,\"showline\":true,\"ticks\":\"outside\",\"title\":{\"standoff\":15},\"zeroline\":false,\"zerolinecolor\":\"rgb(36,36,36)\"}}},\"xaxis\":{\"anchor\":\"y\",\"domain\":[0.0,1.0],\"title\":{\"text\":\"Type of gearbox\"},\"categoryorder\":\"array\",\"categoryarray\":[\"A\",\"B\"]},\"yaxis\":{\"anchor\":\"x\",\"domain\":[0.0,1.0],\"title\":{\"text\":\"Temperature \\u00b0C\"},\"showgrid\":true},\"legend\":{\"title\":{\"text\":\"Type of gearbox\"},\"tracegroupgap\":0},\"title\":{\"text\":\"Gearbox bloxpots\"},\"boxmode\":\"overlay\",\"height\":600,\"width\":1250},                        {\"responsive\": true}                    ).then(function(){\n",
              "                            \n",
              "var gd = document.getElementById('81bc41f3-abee-4cf5-a083-ed2066540e05');\n",
              "var x = new MutationObserver(function (mutations, observer) {{\n",
              "        var display = window.getComputedStyle(gd).display;\n",
              "        if (!display || display === 'none') {{\n",
              "            console.log([gd, 'removed!']);\n",
              "            Plotly.purge(gd);\n",
              "            observer.disconnect();\n",
              "        }}\n",
              "}});\n",
              "\n",
              "// Listen for the removal of the full notebook cells\n",
              "var notebookContainer = gd.closest('#notebook-container');\n",
              "if (notebookContainer) {{\n",
              "    x.observe(notebookContainer, {childList: true});\n",
              "}}\n",
              "\n",
              "// Listen for the clearing of the current output cell\n",
              "var outputEl = gd.closest('.output');\n",
              "if (outputEl) {{\n",
              "    x.observe(outputEl, {childList: true});\n",
              "}}\n",
              "\n",
              "                        })                };                            </script>        </div>\n",
              "</body>\n",
              "</html>"
            ]
          },
          "metadata": {}
        }
      ]
    },
    {
      "cell_type": "markdown",
      "source": [
        "## Visualisation for Client"
      ],
      "metadata": {
        "id": "kX6zENwr6FvL"
      }
    },
    {
      "cell_type": "code",
      "source": [
        "fig = px.line(df, x=\"datetime\", y=\"temperature\", color=\"gearbox\",\n",
        "            width=1250, height=600,\n",
        "            labels={\n",
        "                \"gearbox\": \"Type of gearbox\",  \"datetime\": \"Date\", \"temperature\": \"Temperature °C\"\n",
        "            },\n",
        "            category_orders={\n",
        "                \"gearbox\": [\"A\", \"B\"]\n",
        "            },\n",
        "            template=\"simple_white\"\n",
        "            )\n",
        "\n",
        "fig.update_layout(yaxis_range=[0,55], hovermode='x unified')\n",
        "\n",
        "fig.update_yaxes(showgrid=True,\n",
        "                 tickcolor='black', \n",
        "                 tickfont=dict(family='Arial', color='black', size=14),\n",
        "                 title_font=dict(size=16, family='Arial'))\n",
        "\n",
        "fig.update_xaxes(tickcolor='black',\n",
        "                 tickfont=dict(family='Arial', color='black', size=14),\n",
        "                 title_font=dict(size=16, family='Arial'))\n",
        "\n",
        "fig.update_layout(legend_title_font_color=\"black\",\n",
        "                  title_font=dict(size=14, family='Arial'))\n",
        "\n",
        "fig.update_layout(title_text='Gearbox sensor readings',title_x = 0.5, title_y=0.9,title_font=dict(size=22, family='Arial'))\n",
        "fig.show()"
      ],
      "metadata": {
        "colab": {
          "base_uri": "https://localhost:8080/",
          "height": 617
        },
        "id": "J-Vfw7NO5qh6",
        "outputId": "19266bef-1e8f-4a1f-a53c-703c32d896e7"
      },
      "execution_count": 17,
      "outputs": [
        {
          "output_type": "display_data",
          "data": {
            "text/html": [
              "<html>\n",
              "<head><meta charset=\"utf-8\" /></head>\n",
              "<body>\n",
              "    <div>            <script src=\"https://cdnjs.cloudflare.com/ajax/libs/mathjax/2.7.5/MathJax.js?config=TeX-AMS-MML_SVG\"></script><script type=\"text/javascript\">if (window.MathJax) {MathJax.Hub.Config({SVG: {font: \"STIX-Web\"}});}</script>                <script type=\"text/javascript\">window.PlotlyConfig = {MathJaxConfig: 'local'};</script>\n",
              "        <script src=\"https://cdn.plot.ly/plotly-2.8.3.min.js\"></script>                <div id=\"e1f1b20a-d7c0-4971-8f08-af96dd2e0682\" class=\"plotly-graph-div\" style=\"height:600px; width:1250px;\"></div>            <script type=\"text/javascript\">                                    window.PLOTLYENV=window.PLOTLYENV || {};                                    if (document.getElementById(\"e1f1b20a-d7c0-4971-8f08-af96dd2e0682\")) {                    Plotly.newPlot(                        \"e1f1b20a-d7c0-4971-8f08-af96dd2e0682\",                        [{\"hovertemplate\":\"Type of gearbox=A<br>Date=%{x}<br>Temperature \\u00b0C=%{y}<extra></extra>\",\"legendgroup\":\"A\",\"line\":{\"color\":\"#1F77B4\",\"dash\":\"solid\"},\"marker\":{\"symbol\":\"circle\"},\"mode\":\"lines\",\"name\":\"A\",\"showlegend\":true,\"x\":[\"2023-01-01T05:12:13\",\"2023-01-01T05:17:13\",\"2023-01-01T05:22:13\",\"2023-01-01T05:27:13\",\"2023-01-01T05:32:13\",\"2023-01-01T05:37:13\",\"2023-01-01T05:42:13\",\"2023-01-01T05:47:13\",\"2023-01-01T05:52:13\",\"2023-01-01T05:57:13\",\"2023-01-01T06:02:13\",\"2023-01-01T06:07:13\",\"2023-01-01T06:12:13\",\"2023-01-01T06:17:13\",\"2023-01-01T06:22:13\",\"2023-01-01T06:27:13\",\"2023-01-01T06:32:13\",\"2023-01-01T06:37:13\",\"2023-01-01T06:42:13\",\"2023-01-01T06:47:13\",\"2023-01-01T06:52:13\",\"2023-01-01T06:57:13\",\"2023-01-01T07:02:13\",\"2023-01-01T07:07:13\",\"2023-01-01T07:12:13\",\"2023-01-01T07:17:13\",\"2023-01-01T07:22:13\",\"2023-01-01T07:27:13\",\"2023-01-01T07:32:13\",\"2023-01-01T07:37:13\",\"2023-01-01T07:42:13\",\"2023-01-01T07:47:13\",\"2023-01-01T07:52:13\",\"2023-01-01T07:57:13\",\"2023-01-01T08:02:13\",\"2023-01-01T08:07:13\",\"2023-01-01T08:12:13\",\"2023-01-01T08:17:13\",\"2023-01-01T08:22:13\",\"2023-01-01T08:27:13\",\"2023-01-01T08:32:13\",\"2023-01-01T08:37:13\",\"2023-01-01T08:42:13\",\"2023-01-01T08:47:13\",\"2023-01-01T08:52:13\",\"2023-01-01T08:57:13\",\"2023-01-01T09:02:13\",\"2023-01-01T09:07:13\",\"2023-01-01T09:12:13\",\"2023-01-01T09:17:13\",\"2023-01-01T09:22:13\",\"2023-01-01T09:27:13\",\"2023-01-01T09:32:13\",\"2023-01-01T09:37:13\",\"2023-01-01T09:42:13\",\"2023-01-01T09:47:13\",\"2023-01-01T09:52:13\",\"2023-01-01T09:57:13\",\"2023-01-01T10:02:13\",\"2023-01-01T10:07:13\",\"2023-01-01T10:12:13\",\"2023-01-01T10:17:13\",\"2023-01-01T10:22:13\",\"2023-01-01T10:27:13\",\"2023-01-01T10:32:13\",\"2023-01-01T10:37:13\",\"2023-01-01T10:42:13\",\"2023-01-01T10:47:13\",\"2023-01-01T10:52:13\",\"2023-01-01T10:57:13\",\"2023-01-01T11:02:13\",\"2023-01-01T11:07:13\",\"2023-01-01T11:12:13\",\"2023-01-01T11:17:13\",\"2023-01-01T11:22:13\",\"2023-01-01T11:27:13\",\"2023-01-01T11:32:13\",\"2023-01-01T11:37:13\",\"2023-01-01T11:42:13\",\"2023-01-01T11:47:13\",\"2023-01-01T11:52:13\",\"2023-01-01T11:57:13\",\"2023-01-01T12:02:13\",\"2023-01-01T12:07:13\",\"2023-01-01T12:12:13\",\"2023-01-01T12:17:13\",\"2023-01-01T12:22:13\",\"2023-01-01T12:27:13\",\"2023-01-01T12:32:13\",\"2023-01-01T12:37:13\",\"2023-01-01T12:42:13\",\"2023-01-01T12:47:13\",\"2023-01-01T12:52:13\",\"2023-01-01T12:57:13\",\"2023-01-01T13:02:13\",\"2023-01-01T13:07:13\",\"2023-01-01T13:12:13\",\"2023-01-01T13:17:13\",\"2023-01-01T13:22:13\",\"2023-01-01T13:27:13\",\"2023-01-01T13:32:13\",\"2023-01-01T13:37:13\",\"2023-01-01T13:42:13\",\"2023-01-01T13:47:13\",\"2023-01-01T13:52:13\",\"2023-01-01T13:57:13\",\"2023-01-01T14:02:13\",\"2023-01-01T14:07:13\",\"2023-01-01T14:12:13\",\"2023-01-01T14:17:13\",\"2023-01-01T14:22:13\",\"2023-01-01T14:27:13\",\"2023-01-01T14:32:13\",\"2023-01-01T14:37:13\",\"2023-01-01T14:42:13\",\"2023-01-01T14:47:13\",\"2023-01-01T14:52:13\",\"2023-01-01T14:57:13\",\"2023-01-01T15:02:13\",\"2023-01-01T15:07:13\",\"2023-01-01T15:12:13\",\"2023-01-01T15:17:13\",\"2023-01-01T15:22:13\",\"2023-01-01T15:27:13\",\"2023-01-01T15:32:13\",\"2023-01-01T15:37:13\",\"2023-01-01T15:42:13\",\"2023-01-01T15:47:13\",\"2023-01-01T15:52:13\",\"2023-01-01T15:57:13\",\"2023-01-01T16:02:13\",\"2023-01-01T16:07:13\",\"2023-01-01T16:12:13\",\"2023-01-01T16:17:13\",\"2023-01-01T16:22:13\",\"2023-01-01T16:27:13\",\"2023-01-01T16:32:13\",\"2023-01-01T16:37:13\",\"2023-01-01T16:42:13\",\"2023-01-01T16:47:13\",\"2023-01-01T16:52:13\",\"2023-01-01T16:57:13\",\"2023-01-01T17:02:13\",\"2023-01-01T17:07:13\",\"2023-01-01T17:12:13\",\"2023-01-01T17:17:13\",\"2023-01-01T17:22:13\",\"2023-01-01T17:27:13\",\"2023-01-01T17:32:13\",\"2023-01-01T17:37:13\",\"2023-01-01T17:42:13\",\"2023-01-01T17:47:13\",\"2023-01-01T17:52:13\",\"2023-01-01T17:57:13\",\"2023-01-01T18:02:13\",\"2023-01-01T18:07:13\",\"2023-01-01T18:12:13\",\"2023-01-01T18:17:13\",\"2023-01-01T18:22:13\",\"2023-01-01T18:27:13\",\"2023-01-01T18:32:13\",\"2023-01-01T18:37:13\",\"2023-01-01T18:42:13\",\"2023-01-01T18:47:13\",\"2023-01-01T18:52:13\",\"2023-01-01T18:57:13\",\"2023-01-01T19:02:13\",\"2023-01-01T19:07:13\",\"2023-01-01T19:12:13\",\"2023-01-01T19:17:13\",\"2023-01-01T19:22:13\",\"2023-01-01T19:27:13\",\"2023-01-01T19:32:13\",\"2023-01-01T19:37:13\",\"2023-01-01T19:42:13\",\"2023-01-01T19:47:13\",\"2023-01-01T19:52:13\",\"2023-01-01T19:57:13\",\"2023-01-01T20:02:13\",\"2023-01-01T20:07:13\",\"2023-01-01T20:12:13\",\"2023-01-01T20:17:13\",\"2023-01-01T20:22:13\",\"2023-01-01T20:27:13\",\"2023-01-01T20:32:13\",\"2023-01-01T20:37:13\",\"2023-01-01T20:42:13\",\"2023-01-01T20:47:13\",\"2023-01-01T20:52:13\",\"2023-01-01T20:57:13\",\"2023-01-01T21:02:13\",\"2023-01-01T21:07:13\",\"2023-01-01T21:12:13\",\"2023-01-01T21:17:13\",\"2023-01-01T21:22:13\",\"2023-01-01T21:27:13\",\"2023-01-01T21:32:13\",\"2023-01-01T21:37:13\",\"2023-01-01T21:42:13\",\"2023-01-01T21:47:13\",\"2023-01-01T21:52:13\",\"2023-01-01T21:57:13\",\"2023-01-01T22:02:13\",\"2023-01-01T22:07:13\",\"2023-01-01T22:12:13\",\"2023-01-01T22:17:13\",\"2023-01-01T22:22:13\",\"2023-01-01T22:27:13\",\"2023-01-01T22:32:13\",\"2023-01-01T22:37:13\",\"2023-01-01T22:42:13\",\"2023-01-01T22:47:13\",\"2023-01-01T22:52:13\",\"2023-01-01T22:57:13\",\"2023-01-01T23:02:13\",\"2023-01-01T23:07:13\",\"2023-01-01T23:12:13\",\"2023-01-01T23:17:13\",\"2023-01-01T23:22:13\",\"2023-01-01T23:27:13\",\"2023-01-01T23:32:13\",\"2023-01-01T23:37:13\",\"2023-01-01T23:42:13\",\"2023-01-01T23:47:13\",\"2023-01-01T23:52:13\",\"2023-01-01T23:57:13\",\"2023-01-02T00:02:13\",\"2023-01-02T00:07:13\",\"2023-01-02T00:12:13\",\"2023-01-02T00:17:13\",\"2023-01-02T00:22:13\",\"2023-01-02T00:27:13\",\"2023-01-02T00:32:13\",\"2023-01-02T00:37:13\",\"2023-01-02T00:42:13\",\"2023-01-02T00:47:13\",\"2023-01-02T00:52:13\",\"2023-01-02T00:57:13\",\"2023-01-02T01:02:13\",\"2023-01-02T01:07:13\",\"2023-01-02T01:12:13\",\"2023-01-02T01:17:13\",\"2023-01-02T01:22:13\",\"2023-01-02T01:27:13\",\"2023-01-02T01:32:13\",\"2023-01-02T01:37:13\",\"2023-01-02T01:42:13\",\"2023-01-02T01:47:13\",\"2023-01-02T01:52:13\",\"2023-01-02T01:57:13\",\"2023-01-02T02:02:13\",\"2023-01-02T02:07:13\",\"2023-01-02T02:12:13\",\"2023-01-02T02:17:13\",\"2023-01-02T02:22:13\",\"2023-01-02T02:27:13\",\"2023-01-02T02:32:13\",\"2023-01-02T02:37:13\",\"2023-01-02T02:42:13\",\"2023-01-02T02:47:13\",\"2023-01-02T02:52:13\",\"2023-01-02T02:57:13\",\"2023-01-02T03:02:13\",\"2023-01-02T03:07:13\",\"2023-01-02T03:12:13\",\"2023-01-02T03:17:13\",\"2023-01-02T03:22:13\",\"2023-01-02T03:27:13\",\"2023-01-02T03:32:13\",\"2023-01-02T03:37:13\",\"2023-01-02T03:42:13\",\"2023-01-02T03:47:13\",\"2023-01-02T03:52:13\",\"2023-01-02T03:57:13\",\"2023-01-02T04:02:13\",\"2023-01-02T04:07:13\",\"2023-01-02T04:12:13\",\"2023-01-02T04:17:13\",\"2023-01-02T04:22:13\",\"2023-01-02T04:27:13\",\"2023-01-02T04:32:13\",\"2023-01-02T04:37:13\",\"2023-01-02T04:42:13\",\"2023-01-02T04:47:13\",\"2023-01-02T04:52:13\",\"2023-01-02T04:57:13\",\"2023-01-02T05:02:13\",\"2023-01-02T05:07:13\",\"2023-01-02T05:12:13\",\"2023-01-02T05:17:13\",\"2023-01-02T05:22:13\",\"2023-01-02T05:27:13\",\"2023-01-02T05:32:13\",\"2023-01-02T05:37:13\",\"2023-01-02T05:42:13\",\"2023-01-02T05:47:13\",\"2023-01-02T05:52:13\",\"2023-01-02T05:57:13\",\"2023-01-02T06:02:13\",\"2023-01-02T06:07:13\",\"2023-01-02T06:12:13\",\"2023-01-02T06:17:13\",\"2023-01-02T06:22:13\",\"2023-01-02T06:27:13\",\"2023-01-02T06:32:13\",\"2023-01-02T06:37:13\",\"2023-01-02T06:42:13\",\"2023-01-02T06:47:13\",\"2023-01-02T06:52:13\",\"2023-01-02T06:57:13\",\"2023-01-02T07:02:13\",\"2023-01-02T07:07:13\",\"2023-01-02T07:12:13\",\"2023-01-02T07:17:13\",\"2023-01-02T07:22:13\",\"2023-01-02T07:27:13\",\"2023-01-02T07:32:13\",\"2023-01-02T07:37:13\",\"2023-01-02T07:42:13\",\"2023-01-02T07:47:13\",\"2023-01-02T07:52:13\",\"2023-01-02T07:57:13\",\"2023-01-02T08:02:13\",\"2023-01-02T08:07:13\",\"2023-01-02T08:12:13\",\"2023-01-02T08:17:13\",\"2023-01-02T08:22:13\",\"2023-01-02T08:27:13\",\"2023-01-02T08:32:13\",\"2023-01-02T08:37:13\",\"2023-01-02T08:42:13\",\"2023-01-02T08:47:13\",\"2023-01-02T08:52:13\",\"2023-01-02T08:57:13\",\"2023-01-02T09:02:13\",\"2023-01-02T09:07:13\",\"2023-01-02T09:12:13\",\"2023-01-02T09:17:13\",\"2023-01-02T09:22:13\",\"2023-01-02T09:27:13\",\"2023-01-02T09:32:13\",\"2023-01-02T09:37:13\",\"2023-01-02T09:42:13\",\"2023-01-02T09:47:13\",\"2023-01-02T09:52:13\",\"2023-01-02T09:57:13\",\"2023-01-02T10:02:13\",\"2023-01-02T10:07:13\",\"2023-01-02T10:12:13\",\"2023-01-02T10:17:13\",\"2023-01-02T10:22:13\",\"2023-01-02T10:27:13\",\"2023-01-02T10:32:13\",\"2023-01-02T10:37:13\",\"2023-01-02T10:42:13\",\"2023-01-02T10:47:13\",\"2023-01-02T10:52:13\",\"2023-01-02T10:57:13\",\"2023-01-02T11:02:13\",\"2023-01-02T11:07:13\",\"2023-01-02T11:12:13\",\"2023-01-02T11:17:13\",\"2023-01-02T11:22:13\",\"2023-01-02T11:27:13\",\"2023-01-02T11:32:13\",\"2023-01-02T11:37:13\",\"2023-01-02T11:42:13\",\"2023-01-02T11:47:13\",\"2023-01-02T11:52:13\",\"2023-01-02T11:57:13\",\"2023-01-02T12:02:13\",\"2023-01-02T12:07:13\",\"2023-01-02T12:12:13\",\"2023-01-02T12:17:13\",\"2023-01-02T12:22:13\",\"2023-01-02T12:27:13\",\"2023-01-02T12:32:13\",\"2023-01-02T12:37:13\",\"2023-01-02T12:42:13\",\"2023-01-02T12:47:13\",\"2023-01-02T12:52:13\",\"2023-01-02T12:57:13\",\"2023-01-02T13:02:13\",\"2023-01-02T13:07:13\",\"2023-01-02T13:12:13\",\"2023-01-02T13:17:13\",\"2023-01-02T13:22:13\",\"2023-01-02T13:27:13\",\"2023-01-02T13:32:13\",\"2023-01-02T13:37:13\",\"2023-01-02T13:42:13\",\"2023-01-02T13:47:13\",\"2023-01-02T13:52:13\",\"2023-01-02T13:57:13\",\"2023-01-02T14:02:13\",\"2023-01-02T14:07:13\",\"2023-01-02T14:12:13\",\"2023-01-02T14:17:13\",\"2023-01-02T14:22:13\",\"2023-01-02T14:27:13\",\"2023-01-02T14:32:13\",\"2023-01-02T14:37:13\",\"2023-01-02T14:42:13\",\"2023-01-02T14:47:13\",\"2023-01-02T14:52:13\",\"2023-01-02T14:57:13\",\"2023-01-02T15:02:13\",\"2023-01-02T15:07:13\",\"2023-01-02T15:12:13\",\"2023-01-02T15:17:13\",\"2023-01-02T15:22:13\",\"2023-01-02T15:27:13\",\"2023-01-02T15:32:13\",\"2023-01-02T15:37:13\",\"2023-01-02T15:42:13\",\"2023-01-02T15:47:13\",\"2023-01-02T15:52:13\",\"2023-01-02T15:57:13\",\"2023-01-02T16:02:13\",\"2023-01-02T16:07:13\",\"2023-01-02T16:12:13\",\"2023-01-02T16:17:13\",\"2023-01-02T16:22:13\",\"2023-01-02T16:27:13\",\"2023-01-02T16:32:13\",\"2023-01-02T16:37:13\",\"2023-01-02T16:42:13\",\"2023-01-02T16:47:13\",\"2023-01-02T16:52:13\",\"2023-01-02T16:57:13\",\"2023-01-02T17:02:13\",\"2023-01-02T17:07:13\",\"2023-01-02T17:12:13\",\"2023-01-02T17:17:13\",\"2023-01-02T17:22:13\",\"2023-01-02T17:27:13\",\"2023-01-02T17:32:13\",\"2023-01-02T17:37:13\",\"2023-01-02T17:42:13\",\"2023-01-02T17:47:13\",\"2023-01-02T17:52:13\",\"2023-01-02T17:57:13\",\"2023-01-02T18:02:13\",\"2023-01-02T18:07:13\",\"2023-01-02T18:12:13\",\"2023-01-02T18:17:13\",\"2023-01-02T18:22:13\",\"2023-01-02T18:27:13\",\"2023-01-02T18:32:13\",\"2023-01-02T18:37:13\",\"2023-01-02T18:42:13\",\"2023-01-02T18:47:13\",\"2023-01-02T18:52:13\",\"2023-01-02T18:57:13\",\"2023-01-02T19:02:13\",\"2023-01-02T19:07:13\",\"2023-01-02T19:12:13\",\"2023-01-02T19:17:13\",\"2023-01-02T19:22:13\",\"2023-01-02T19:27:13\",\"2023-01-02T19:32:13\",\"2023-01-02T19:37:13\",\"2023-01-02T19:42:13\",\"2023-01-02T19:47:13\",\"2023-01-02T19:52:13\",\"2023-01-02T19:57:13\",\"2023-01-02T20:02:13\",\"2023-01-02T20:07:13\",\"2023-01-02T20:12:13\",\"2023-01-02T20:17:13\",\"2023-01-02T20:22:13\",\"2023-01-02T20:27:13\",\"2023-01-02T20:32:13\",\"2023-01-02T20:37:13\",\"2023-01-02T20:42:13\",\"2023-01-02T20:47:13\",\"2023-01-02T20:52:13\",\"2023-01-02T20:57:13\",\"2023-01-02T21:02:13\",\"2023-01-02T21:07:13\",\"2023-01-02T21:12:13\",\"2023-01-02T21:17:13\",\"2023-01-02T21:22:13\",\"2023-01-02T21:27:13\",\"2023-01-02T21:32:13\",\"2023-01-02T21:37:13\",\"2023-01-02T21:42:13\",\"2023-01-02T21:47:13\",\"2023-01-02T21:52:13\",\"2023-01-02T21:57:13\",\"2023-01-02T22:02:13\",\"2023-01-02T22:07:13\",\"2023-01-02T22:12:13\",\"2023-01-02T22:17:13\",\"2023-01-02T22:22:13\",\"2023-01-02T22:27:13\",\"2023-01-02T22:32:13\",\"2023-01-02T22:37:13\",\"2023-01-02T22:42:13\",\"2023-01-02T22:47:13\",\"2023-01-02T22:52:13\",\"2023-01-02T22:57:13\",\"2023-01-02T23:02:13\",\"2023-01-02T23:07:13\",\"2023-01-02T23:12:13\",\"2023-01-02T23:17:13\",\"2023-01-02T23:22:13\",\"2023-01-02T23:27:13\",\"2023-01-02T23:32:13\",\"2023-01-02T23:37:13\",\"2023-01-02T23:42:13\",\"2023-01-02T23:47:13\",\"2023-01-02T23:52:13\",\"2023-01-02T23:57:13\",\"2023-01-03T00:02:13\",\"2023-01-03T00:07:13\",\"2023-01-03T00:12:13\",\"2023-01-03T00:17:13\",\"2023-01-03T00:22:13\",\"2023-01-03T00:27:13\",\"2023-01-03T00:32:13\",\"2023-01-03T00:37:13\",\"2023-01-03T00:42:13\",\"2023-01-03T00:47:13\",\"2023-01-03T00:52:13\",\"2023-01-03T00:57:13\",\"2023-01-03T01:02:13\",\"2023-01-03T01:07:13\",\"2023-01-03T01:12:13\",\"2023-01-03T01:17:13\",\"2023-01-03T01:22:13\",\"2023-01-03T01:27:13\",\"2023-01-03T01:32:13\",\"2023-01-03T01:37:13\",\"2023-01-03T01:42:13\",\"2023-01-03T01:47:13\",\"2023-01-03T01:52:13\",\"2023-01-03T01:57:13\",\"2023-01-03T02:02:13\",\"2023-01-03T02:07:13\",\"2023-01-03T02:12:13\",\"2023-01-03T02:17:13\",\"2023-01-03T02:22:13\",\"2023-01-03T02:27:13\",\"2023-01-03T02:32:13\",\"2023-01-03T02:37:13\",\"2023-01-03T02:42:13\",\"2023-01-03T02:47:13\",\"2023-01-03T02:52:13\",\"2023-01-03T02:57:13\",\"2023-01-03T03:02:13\",\"2023-01-03T03:07:13\",\"2023-01-03T03:12:13\",\"2023-01-03T03:17:13\",\"2023-01-03T03:22:13\",\"2023-01-03T03:27:13\",\"2023-01-03T03:32:13\",\"2023-01-03T03:37:13\",\"2023-01-03T03:42:13\",\"2023-01-03T03:47:13\",\"2023-01-03T03:52:13\",\"2023-01-03T03:57:13\",\"2023-01-03T04:02:13\",\"2023-01-03T04:07:13\",\"2023-01-03T04:12:13\",\"2023-01-03T04:17:13\",\"2023-01-03T04:22:13\",\"2023-01-03T04:27:13\",\"2023-01-03T04:32:13\",\"2023-01-03T04:37:13\",\"2023-01-03T04:42:13\",\"2023-01-03T04:47:13\",\"2023-01-03T04:52:13\",\"2023-01-03T04:57:13\",\"2023-01-03T05:02:13\",\"2023-01-03T05:07:13\"],\"xaxis\":\"x\",\"y\":[2.8521710542715275,2.666520799288016,2.148985609311841,2.851861878893977,2.829642127324085,2.478931657733019,2.365898521858913,2.5577005517327374,2.686717422463894,2.7298775714209884,2.623529534462578,2.849011444912051,2.1745227914334038,2.4156508598720783,2.04148820057694,2.2302076816898397,2.5172213930476373,2.2284363820433337,2.393242429393256,2.405196500207557,2.404421580651704,1.8935409561390009,2.4866251027196307,2.6119568702228158,2.3156196297829177,2.168359280457751,2.904641926530919,2.7648413087878296,3.0418545410498856,2.9163058890533,3.1724865785574194,2.8918632741409063,2.368977775292612,2.3141149610584484,2.3798290551475447,2.619765014999372,2.9691441859075183,2.863977469861248,2.83259261253338,2.58204317493022,2.673510032142481,3.358416545204117,2.5532002462293937,2.950686492682696,2.59200516819174,3.192112513581647,2.5769070620156542,2.037224207219868,2.966816118659703,2.8599233222773432,2.72038209123127,2.8030102018211127,2.867901674532002,2.807705206896651,2.560729051964567,2.148222430671374,2.9702859299613547,3.239989599552459,3.5624989103079816,4.002738043829029,4.098030442078722,4.640298731176292,5.0066652471819335,5.374888384278831,6.399062813799636,6.4886529836233455,6.724850274243939,7.498892273485161,7.017593083091243,7.923013063836752,8.399154903275605,9.881000013816957,9.477378749967768,10.455588883287904,11.072868582362544,11.91047117107172,12.928719848845398,13.331024322867735,13.933695170172829,14.726875333773076,15.681942624885174,15.892308442714498,16.51976746546964,16.947603846649205,16.74950862105341,17.019948772023128,17.379822603261516,16.40322887828251,15.720208447477363,15.026232874641096,14.478974110087552,14.502866314274222,15.990633945503069,15.892222447776213,16.700867852283928,17.54135641408346,17.90595182804746,18.470856471749915,19.16625697364489,19.689949245344557,20.22641124613183,20.999675085391083,21.59714303460329,22.256320180826187,23.266775625619324,23.131618002949423,23.921262827946496,24.05862269021793,24.42576637059837,24.272683454650178,24.385150248776,23.649917106884303,23.44975781109644,23.4616962899725,23.488130184923097,23.678820914966348,24.698727752468915,25.013243814172142,26.293515574127067,27.18289855438741,28.388470720865268,28.420087269644007,28.781688541309755,29.626246902344967,30.07289640362789,30.798637224445404,30.895865632052683,31.17260397801995,31.973486157108752,33.00923884821215,32.42799037556023,31.774641072464703,31.77266228055983,31.189340445549043,30.168115667284574,29.88227536323033,29.946037689545477,29.27671073588264,31.112745657565032,30.43382358744444,31.288678942419697,31.19175630996225,32.30430342104763,31.976020035191954,32.85294736118396,33.31079420803362,34.13456756714963,33.89406413143056,34.52647097760125,35.137040019504326,35.072184021395856,35.22566367365228,34.609588150890566,34.4001054332186,34.343841440289246,33.904150306209274,33.28439578231993,33.62183048094704,32.331769110061806,32.800525659610216,33.25768171266194,33.64082007569704,34.04520137308862,34.457323197109005,35.41327039381955,35.75227998641897,36.47660099269819,36.60039298598549,37.286053021099,36.62165237050214,37.26737795702796,37.44701405267087,37.86196009841487,37.08099443983167,37.45678747832668,36.69197147748342,36.17293311086617,35.55031394125008,34.705957536815866,33.9990855185128,34.036387518776344,34.378630396419744,34.38302054275729,35.08319728518976,35.059279600606615,35.74983707823043,36.0227642187668,36.3882962513269,37.02244995975733,36.47243497935143,36.114882509063214,36.40110845505788,36.25832808555794,35.78731863766212,35.99195307206707,34.984351619045384,34.760606438900034,34.12945345510961,34.12279050198309,33.85865357874513,34.37603818490608,34.83092594169905,34.9545296248229,35.18675115092894,34.63308855894942,33.44365488889017,33.655191886452506,33.084049471351705,32.193903429240066,32.09317913915272,31.379659628783774,31.15857072825999,30.83406602114672,30.14221466232752,29.27353747075095,29.2093415447158,28.699088357806893,28.51489100452624,28.23388510899053,27.65482922279634,26.86952330502507,26.09684113939577,25.722746261880616,25.576098219101063,24.965994971522928,24.40116571109421,23.84192979661077,22.8857102089594,22.522508256921235,21.83280631828012,21.34623304992419,21.66952893940302,20.860534967700755,20.219881332201872,19.868607646642843,18.97276668782353,18.40209851176745,18.216098067512245,17.63184951062967,16.843183144294848,15.99706260986196,15.598752175676744,15.431308330182478,14.821864811194985,14.161092157168662,13.587881984254505,13.003517348055322,12.739845074330258,11.793378934647912,11.13758077084859,11.259595959182064,10.36775926379794,9.77163275039637,9.818014553825954,9.583524145849625,8.452740949879509,8.402896003457201,7.246389795053912,6.867546780584639,6.39400757301979,6.607682806313676,5.894007836634229,5.610127772411213,5.214055564126912,5.151654990814166,4.667328841453652,5.271263859688053,4.457772289729434,3.851104045659117,4.188197104735239,4.198017107844665,3.9142684338769143,3.914911456736295,4.123970080642248,3.679532418500118,3.4817628797734943,3.971417953453744,4.000898487999804,4.350048126367456,4.088219115964986,4.651229511821367,3.8545989380321295,3.632815929923458,3.9023508110077567,4.276956868703967,4.198153996809165,4.186199021774186,4.371112208951165,3.619123948391404,3.689486823539753,4.206658904952921,4.366121424435778,3.8199287616122817,4.1609980521287335,4.059154707917759,3.8545071714918673,4.114989698714698,3.7764134921631847,3.938870131005228,4.335950526017257,3.6753236861865832,4.10470604645903,4.126196453609463,3.566189353759654,4.284069076139888,3.970503351836086,4.045333459647965,4.646663635071,3.87042355136142,4.335450194149336,5.038986634585986,5.616489471934437,5.9472513872755455,6.854667391595799,6.752129247139266,7.49192331817991,8.193432360765405,8.757277665385212,8.15586334060459,9.72560908148112,10.49068384312462,10.69222134476631,11.36424933133723,11.327905741522594,12.613916920994225,12.866168302117694,13.917555815599158,13.763764549713851,14.068198017942883,14.864060131707133,14.946102520163953,16.49781149550681,16.883710016422004,17.16178751937477,17.774217630012515,17.962244771030083,19.081764184248,19.46177708663312,20.03762247485816,20.14527469047807,19.94202718067023,19.76806020112005,18.53614395757068,18.7225426912422,17.88502832744638,17.46320530469134,16.779405704262903,16.678012665255473,16.99304655833529,18.036450803414397,18.708551524790177,19.89671840680198,19.84063977647053,20.957140285169597,21.252249262289094,22.000418831411228,22.787467233796544,24.138585163044947,24.593311803244063,25.79592240579828,26.92903268693063,27.874056776955044,28.01052528360569,28.31898145566773,28.963484606843075,28.502856096790733,27.49087643965229,27.270054258672143,26.2091178969584,26.05830714978842,25.126904145254183,24.769988387780536,24.70652411341979,24.740905497191207,25.33934839357865,26.95736255096965,28.133571061504824,28.549213875224723,29.75325456216334,30.197145693294548,30.177026241927155,31.45465972835647,32.396053385144455,33.619663978276435,34.89252273990687,34.70635044777232,35.37829352820313,35.86416348758827,36.75669262693608,37.363689700049775,37.18357658456592,37.088252352982856,36.9331255033204,35.72055157536573,36.03449212056527,34.57601839640429,33.94708326351243,33.22172300516853,33.32771614281889,32.96722195295081,32.68019965693064,33.97513081767789,34.70126321954661,35.402245679398966,36.113589761966416,37.18557713233339,37.70427931029556,38.69991226417716,39.47757783817509,39.78566923311773,40.89528864343874,41.73438860248626,42.03021796090284,42.59244914627801,42.78373201536466,43.2568048720323,44.041049937066006,43.843198765610815,43.687566109756204,42.9811595214926,42.50498782830344,41.46608938290407,40.60051827531495,39.94341835275384,39.89408560432934,39.24839949109906,39.13987970265523,39.93266263030888,40.53244409377037,41.26389580830413,42.13434777351798,43.24056216341887,42.67638430297898,43.30829293933365,43.56408041115038,43.78002503748456,44.15793396367125,43.91398081748024,43.49244653775979,43.62062155441977,43.14979378245023,42.78050033840739,42.35736753055488,41.5503179941737,41.82967763869708,41.27360765764002,40.544789253460735,40.39505898469596,39.91411409953209,40.60800232974478,40.98904338393014,41.682272725961816,42.2082624854727,42.76705829908125,42.552478241174434,43.709171474928,44.41536819172424,43.9952352940226,44.17386601870795,43.86001822405629,43.221796222024345,43.10939703401595,42.01177537739489,41.90260567955588,40.50058577318247,40.55841724407326,40.08357637964865,38.72802821330654,38.177386257040766,37.80525662575958,37.59268902488648,37.12531165030887,37.32848445809639,37.55187464743247,37.5715892824868,38.31643771408341,39.3718394279499,39.64063600679844,40.12968798673328,40.02537782407215,40.636909034398506,40.78393968784335,40.016028179096445,39.301714603156974,38.505450490624575,37.81847021623648,36.42532793009192,35.82527030492056,35.53744254371697,35.079396592878,34.30888877796614,33.46531672413082,32.929531489755945,32.16782417070956,31.54071614010693,30.65823129702581,30.621119267443927,30.07463804654728,30.102503906252284,28.80901016652582,29.368322892135136,28.3471317757682,28.21483165187,28.10221330880772,27.51069071990878,27.286308263830588,26.45723057465474,26.180020857368326,25.622082126081416,25.26316334897511,24.46948561030092,23.685050393878083,23.336485331897823,23.209524177272414,22.95418325300456,21.733160352294835,22.33450159957605,21.664023330825223,21.4374324544172,20.998371671698347,20.541036068821857,19.738342314600683,19.407689391693832,18.780874615535552,17.99408370263287,18.23249740545359,18.166854968356176,16.693148931520415,16.9346371941312,15.983524044306282,15.459970593798213,14.784735280500408,14.49587216954526,14.274726110443508,13.590384785324211,12.95069149940438,12.819730976286856,12.054042908787553,11.269915471806565,10.41676837307185,10.761841587928698,9.965047899548848,10.33104119434479,9.798509420644608,8.821508305122576,8.56032201146643,8.028080922046025,8.326464777316788,6.827069497172989,7.596498142101121,7.211777500957056,7.174299106825706,6.805847213970735,7.133286693555701,5.712928954387501,6.080725321954368,6.463275397714435,6.486868195995469,6.6900544601614245,6.605682021306607,6.5021483551899815,6.807719507857282,6.660168905203582,6.249084224501437,6.235321574363865,6.11031062921649,5.694014081311443,5.817024442158491,6.263087340207082,6.195539905509307,5.218331532985652,5.921036733376996,5.921618908734775,6.070441079678356,5.796398744979462,5.193201607625612],\"yaxis\":\"y\",\"type\":\"scattergl\"},{\"hovertemplate\":\"Type of gearbox=B<br>Date=%{x}<br>Temperature \\u00b0C=%{y}<extra></extra>\",\"legendgroup\":\"B\",\"line\":{\"color\":\"#FF7F0E\",\"dash\":\"solid\"},\"marker\":{\"symbol\":\"circle\"},\"mode\":\"lines\",\"name\":\"B\",\"showlegend\":true,\"x\":[\"2023-01-01T05:14:26\",\"2023-01-01T05:19:26\",\"2023-01-01T05:24:26\",\"2023-01-01T05:29:26\",\"2023-01-01T05:34:26\",\"2023-01-01T05:39:26\",\"2023-01-01T05:44:26\",\"2023-01-01T05:49:26\",\"2023-01-01T05:54:26\",\"2023-01-01T05:59:26\",\"2023-01-01T06:04:26\",\"2023-01-01T06:09:26\",\"2023-01-01T06:14:26\",\"2023-01-01T06:19:26\",\"2023-01-01T06:24:26\",\"2023-01-01T06:29:26\",\"2023-01-01T06:34:26\",\"2023-01-01T06:39:26\",\"2023-01-01T06:44:26\",\"2023-01-01T06:49:26\",\"2023-01-01T06:54:26\",\"2023-01-01T06:59:26\",\"2023-01-01T07:04:26\",\"2023-01-01T07:09:26\",\"2023-01-01T07:14:26\",\"2023-01-01T07:19:26\",\"2023-01-01T07:24:26\",\"2023-01-01T07:29:26\",\"2023-01-01T07:34:26\",\"2023-01-01T07:39:26\",\"2023-01-01T07:44:26\",\"2023-01-01T07:49:26\",\"2023-01-01T07:54:26\",\"2023-01-01T07:59:26\",\"2023-01-01T08:04:26\",\"2023-01-01T08:09:26\",\"2023-01-01T08:14:26\",\"2023-01-01T08:19:26\",\"2023-01-01T08:24:26\",\"2023-01-01T08:29:26\",\"2023-01-01T08:34:26\",\"2023-01-01T08:39:26\",\"2023-01-01T08:44:26\",\"2023-01-01T08:49:26\",\"2023-01-01T08:54:26\",\"2023-01-01T08:59:26\",\"2023-01-01T09:04:26\",\"2023-01-01T09:09:26\",\"2023-01-01T09:14:26\",\"2023-01-01T09:19:26\",\"2023-01-01T09:24:26\",\"2023-01-01T09:29:26\",\"2023-01-01T09:34:26\",\"2023-01-01T09:39:26\",\"2023-01-01T09:44:26\",\"2023-01-01T09:49:26\",\"2023-01-01T09:54:26\",\"2023-01-01T09:59:26\",\"2023-01-01T10:04:26\",\"2023-01-01T10:09:26\",\"2023-01-01T10:14:26\",\"2023-01-01T10:19:26\",\"2023-01-01T10:24:26\",\"2023-01-01T10:29:26\",\"2023-01-01T10:34:26\",\"2023-01-01T10:39:26\",\"2023-01-01T10:44:26\",\"2023-01-01T10:49:26\",\"2023-01-01T10:54:26\",\"2023-01-01T10:59:26\",\"2023-01-01T11:04:26\",\"2023-01-01T11:09:26\",\"2023-01-01T11:14:26\",\"2023-01-01T11:19:26\",\"2023-01-01T11:24:26\",\"2023-01-01T11:29:26\",\"2023-01-01T11:34:26\",\"2023-01-01T11:39:26\",\"2023-01-01T11:44:26\",\"2023-01-01T11:49:26\",\"2023-01-01T11:54:26\",\"2023-01-01T11:59:26\",\"2023-01-01T12:04:26\",\"2023-01-01T12:09:26\",\"2023-01-01T12:14:26\",\"2023-01-01T12:19:26\",\"2023-01-01T12:24:26\",\"2023-01-01T12:29:26\",\"2023-01-01T12:34:26\",\"2023-01-01T12:39:26\",\"2023-01-01T12:44:26\",\"2023-01-01T12:49:26\",\"2023-01-01T12:54:26\",\"2023-01-01T12:59:26\",\"2023-01-01T13:04:26\",\"2023-01-01T13:09:26\",\"2023-01-01T13:14:26\",\"2023-01-01T13:19:26\",\"2023-01-01T13:24:26\",\"2023-01-01T13:29:26\",\"2023-01-01T13:34:26\",\"2023-01-01T13:39:26\",\"2023-01-01T13:44:26\",\"2023-01-01T13:49:26\",\"2023-01-01T13:54:26\",\"2023-01-01T13:59:26\",\"2023-01-01T14:04:26\",\"2023-01-01T14:09:26\",\"2023-01-01T14:14:26\",\"2023-01-01T14:19:26\",\"2023-01-01T14:24:26\",\"2023-01-01T14:29:26\",\"2023-01-01T14:34:26\",\"2023-01-01T14:39:26\",\"2023-01-01T14:44:26\",\"2023-01-01T14:49:26\",\"2023-01-01T14:54:26\",\"2023-01-01T14:59:26\",\"2023-01-01T15:04:26\",\"2023-01-01T15:09:26\",\"2023-01-01T15:14:26\",\"2023-01-01T15:19:26\",\"2023-01-01T15:24:26\",\"2023-01-01T15:29:26\",\"2023-01-01T15:34:26\",\"2023-01-01T15:39:26\",\"2023-01-01T15:44:26\",\"2023-01-01T15:49:26\",\"2023-01-01T15:54:26\",\"2023-01-01T15:59:26\",\"2023-01-01T16:04:26\",\"2023-01-01T16:09:26\",\"2023-01-01T16:14:26\",\"2023-01-01T16:19:26\",\"2023-01-01T16:24:26\",\"2023-01-01T16:29:26\",\"2023-01-01T16:34:26\",\"2023-01-01T16:39:26\",\"2023-01-01T16:44:26\",\"2023-01-01T16:49:26\",\"2023-01-01T16:54:26\",\"2023-01-01T16:59:26\",\"2023-01-01T17:04:26\",\"2023-01-01T17:09:26\",\"2023-01-01T17:14:26\",\"2023-01-01T17:19:26\",\"2023-01-01T17:24:26\",\"2023-01-01T17:29:26\",\"2023-01-01T17:34:26\",\"2023-01-01T17:39:26\",\"2023-01-01T17:44:26\",\"2023-01-01T17:49:26\",\"2023-01-01T17:54:26\",\"2023-01-01T17:59:26\",\"2023-01-01T18:04:26\",\"2023-01-01T18:09:26\",\"2023-01-01T18:14:26\",\"2023-01-01T18:19:26\",\"2023-01-01T18:24:26\",\"2023-01-01T18:29:26\",\"2023-01-01T18:34:26\",\"2023-01-01T18:39:26\",\"2023-01-01T18:44:26\",\"2023-01-01T18:49:26\",\"2023-01-01T18:54:26\",\"2023-01-01T18:59:26\",\"2023-01-01T19:04:26\",\"2023-01-01T19:09:26\",\"2023-01-01T19:14:26\",\"2023-01-01T19:19:26\",\"2023-01-01T19:24:26\",\"2023-01-01T19:29:26\",\"2023-01-01T19:34:26\",\"2023-01-01T19:39:26\",\"2023-01-01T19:44:26\",\"2023-01-01T19:49:26\",\"2023-01-01T19:54:26\",\"2023-01-01T19:59:26\",\"2023-01-01T20:04:26\",\"2023-01-01T20:09:26\",\"2023-01-01T20:14:26\",\"2023-01-01T20:19:26\",\"2023-01-01T20:24:26\",\"2023-01-01T20:29:26\",\"2023-01-01T20:34:26\",\"2023-01-01T20:39:26\",\"2023-01-01T20:44:26\",\"2023-01-01T20:49:26\",\"2023-01-01T20:54:26\",\"2023-01-01T20:59:26\",\"2023-01-01T21:04:26\",\"2023-01-01T21:09:26\",\"2023-01-01T21:14:26\",\"2023-01-01T21:19:26\",\"2023-01-01T21:24:26\",\"2023-01-01T21:29:26\",\"2023-01-01T21:34:26\",\"2023-01-01T21:39:26\",\"2023-01-01T21:44:26\",\"2023-01-01T21:49:26\",\"2023-01-01T21:54:26\",\"2023-01-01T21:59:26\",\"2023-01-01T22:04:26\",\"2023-01-01T22:09:26\",\"2023-01-01T22:14:26\",\"2023-01-01T22:19:26\",\"2023-01-01T22:24:26\",\"2023-01-01T22:29:26\",\"2023-01-01T22:34:26\",\"2023-01-01T22:39:26\",\"2023-01-01T22:44:26\",\"2023-01-01T22:49:26\",\"2023-01-01T22:54:26\",\"2023-01-01T22:59:26\",\"2023-01-01T23:04:26\",\"2023-01-01T23:09:26\",\"2023-01-01T23:14:26\",\"2023-01-01T23:19:26\",\"2023-01-01T23:24:26\",\"2023-01-01T23:29:26\",\"2023-01-01T23:34:26\",\"2023-01-01T23:39:26\",\"2023-01-01T23:44:26\",\"2023-01-01T23:49:26\",\"2023-01-01T23:54:26\",\"2023-01-01T23:59:26\",\"2023-01-02T00:04:26\",\"2023-01-02T00:09:26\",\"2023-01-02T00:14:26\",\"2023-01-02T00:19:26\",\"2023-01-02T00:24:26\",\"2023-01-02T00:29:26\",\"2023-01-02T00:34:26\",\"2023-01-02T00:39:26\",\"2023-01-02T00:44:26\",\"2023-01-02T00:49:26\",\"2023-01-02T00:54:26\",\"2023-01-02T00:59:26\",\"2023-01-02T01:04:26\",\"2023-01-02T01:09:26\",\"2023-01-02T01:14:26\",\"2023-01-02T01:19:26\",\"2023-01-02T01:24:26\",\"2023-01-02T01:29:26\",\"2023-01-02T01:34:26\",\"2023-01-02T01:39:26\",\"2023-01-02T01:44:26\",\"2023-01-02T01:49:26\",\"2023-01-02T01:54:26\",\"2023-01-02T01:59:26\",\"2023-01-02T02:04:26\",\"2023-01-02T02:09:26\",\"2023-01-02T02:14:26\",\"2023-01-02T02:19:26\",\"2023-01-02T02:24:26\",\"2023-01-02T02:29:26\",\"2023-01-02T02:34:26\",\"2023-01-02T02:39:26\",\"2023-01-02T02:44:26\",\"2023-01-02T02:49:26\",\"2023-01-02T02:54:26\",\"2023-01-02T02:59:26\",\"2023-01-02T03:04:26\",\"2023-01-02T03:09:26\",\"2023-01-02T03:14:26\",\"2023-01-02T03:19:26\",\"2023-01-02T03:24:26\",\"2023-01-02T03:29:26\",\"2023-01-02T03:34:26\",\"2023-01-02T03:39:26\",\"2023-01-02T03:44:26\",\"2023-01-02T03:49:26\",\"2023-01-02T03:54:26\",\"2023-01-02T03:59:26\",\"2023-01-02T04:04:26\",\"2023-01-02T04:09:26\",\"2023-01-02T04:14:26\",\"2023-01-02T04:19:26\",\"2023-01-02T04:24:26\",\"2023-01-02T04:29:26\",\"2023-01-02T04:34:26\",\"2023-01-02T04:39:26\",\"2023-01-02T04:44:26\",\"2023-01-02T04:49:26\",\"2023-01-02T04:54:26\",\"2023-01-02T04:59:26\",\"2023-01-02T05:04:26\",\"2023-01-02T05:09:26\",\"2023-01-02T05:14:26\",\"2023-01-02T05:19:26\",\"2023-01-02T05:24:26\",\"2023-01-02T05:29:26\",\"2023-01-02T05:34:26\",\"2023-01-02T05:39:26\",\"2023-01-02T05:44:26\",\"2023-01-02T05:49:26\",\"2023-01-02T05:54:26\",\"2023-01-02T05:59:26\",\"2023-01-02T06:04:26\",\"2023-01-02T06:09:26\",\"2023-01-02T06:14:26\",\"2023-01-02T06:19:26\",\"2023-01-02T06:24:26\",\"2023-01-02T06:29:26\",\"2023-01-02T06:34:26\",\"2023-01-02T06:39:26\",\"2023-01-02T06:44:26\",\"2023-01-02T06:49:26\",\"2023-01-02T06:54:26\",\"2023-01-02T06:59:26\",\"2023-01-02T07:04:26\",\"2023-01-02T07:09:26\",\"2023-01-02T07:14:26\",\"2023-01-02T07:19:26\",\"2023-01-02T07:24:26\",\"2023-01-02T07:29:26\",\"2023-01-02T07:34:26\",\"2023-01-02T07:39:26\",\"2023-01-02T07:44:26\",\"2023-01-02T07:49:26\",\"2023-01-02T07:54:26\",\"2023-01-02T07:59:26\",\"2023-01-02T08:04:26\",\"2023-01-02T08:09:26\",\"2023-01-02T08:14:26\",\"2023-01-02T08:19:26\",\"2023-01-02T08:24:26\",\"2023-01-02T08:29:26\",\"2023-01-02T08:34:26\",\"2023-01-02T08:39:26\",\"2023-01-02T08:44:26\",\"2023-01-02T08:49:26\",\"2023-01-02T08:54:26\",\"2023-01-02T08:59:26\",\"2023-01-02T09:04:26\",\"2023-01-02T09:09:26\",\"2023-01-02T09:14:26\",\"2023-01-02T09:19:26\",\"2023-01-02T09:24:26\",\"2023-01-02T09:29:26\",\"2023-01-02T09:34:26\",\"2023-01-02T09:39:26\",\"2023-01-02T09:44:26\",\"2023-01-02T09:49:26\",\"2023-01-02T09:54:26\",\"2023-01-02T09:59:26\",\"2023-01-02T10:04:26\",\"2023-01-02T10:09:26\",\"2023-01-02T10:14:26\",\"2023-01-02T10:19:26\",\"2023-01-02T10:24:26\",\"2023-01-02T10:29:26\",\"2023-01-02T10:34:26\",\"2023-01-02T10:39:26\",\"2023-01-02T10:44:26\",\"2023-01-02T10:49:26\",\"2023-01-02T10:54:26\",\"2023-01-02T10:59:26\",\"2023-01-02T11:04:26\",\"2023-01-02T11:09:26\",\"2023-01-02T11:14:26\",\"2023-01-02T11:19:26\",\"2023-01-02T11:24:26\",\"2023-01-02T11:29:26\",\"2023-01-02T11:34:26\",\"2023-01-02T11:39:26\",\"2023-01-02T11:44:26\",\"2023-01-02T11:49:26\",\"2023-01-02T11:54:26\",\"2023-01-02T11:59:26\",\"2023-01-02T12:04:26\",\"2023-01-02T12:09:26\",\"2023-01-02T12:14:26\",\"2023-01-02T12:19:26\",\"2023-01-02T12:24:26\",\"2023-01-02T12:29:26\",\"2023-01-02T12:34:26\",\"2023-01-02T12:39:26\",\"2023-01-02T12:44:26\",\"2023-01-02T12:49:26\",\"2023-01-02T12:54:26\",\"2023-01-02T12:59:26\",\"2023-01-02T13:04:26\",\"2023-01-02T13:09:26\",\"2023-01-02T13:14:26\",\"2023-01-02T13:19:26\",\"2023-01-02T13:24:26\",\"2023-01-02T13:29:26\",\"2023-01-02T13:34:26\",\"2023-01-02T13:39:26\",\"2023-01-02T13:44:26\",\"2023-01-02T13:49:26\",\"2023-01-02T13:54:26\",\"2023-01-02T13:59:26\",\"2023-01-02T14:04:26\",\"2023-01-02T14:09:26\",\"2023-01-02T14:14:26\",\"2023-01-02T14:19:26\",\"2023-01-02T14:24:26\",\"2023-01-02T14:29:26\",\"2023-01-02T14:34:26\",\"2023-01-02T14:39:26\",\"2023-01-02T14:44:26\",\"2023-01-02T14:49:26\",\"2023-01-02T14:54:26\",\"2023-01-02T14:59:26\",\"2023-01-02T15:04:26\",\"2023-01-02T15:09:26\",\"2023-01-02T15:14:26\",\"2023-01-02T15:19:26\",\"2023-01-02T15:24:26\",\"2023-01-02T15:29:26\",\"2023-01-02T15:34:26\",\"2023-01-02T15:39:26\",\"2023-01-02T15:44:26\",\"2023-01-02T15:49:26\",\"2023-01-02T15:54:26\",\"2023-01-02T15:59:26\",\"2023-01-02T16:04:26\",\"2023-01-02T16:09:26\",\"2023-01-02T16:14:26\",\"2023-01-02T16:19:26\",\"2023-01-02T16:24:26\",\"2023-01-02T16:29:26\",\"2023-01-02T16:34:26\",\"2023-01-02T16:39:26\",\"2023-01-02T16:44:26\",\"2023-01-02T16:49:26\",\"2023-01-02T16:54:26\",\"2023-01-02T16:59:26\",\"2023-01-02T17:04:26\",\"2023-01-02T17:09:26\",\"2023-01-02T17:14:26\",\"2023-01-02T17:19:26\",\"2023-01-02T17:24:26\",\"2023-01-02T17:29:26\",\"2023-01-02T17:34:26\",\"2023-01-02T17:39:26\",\"2023-01-02T17:44:26\",\"2023-01-02T17:49:26\",\"2023-01-02T17:54:26\",\"2023-01-02T17:59:26\",\"2023-01-02T18:04:26\",\"2023-01-02T18:09:26\",\"2023-01-02T18:14:26\",\"2023-01-02T18:19:26\",\"2023-01-02T18:24:26\",\"2023-01-02T18:29:26\",\"2023-01-02T18:34:26\",\"2023-01-02T18:39:26\",\"2023-01-02T18:44:26\",\"2023-01-02T18:49:26\",\"2023-01-02T18:54:26\",\"2023-01-02T18:59:26\",\"2023-01-02T19:04:26\",\"2023-01-02T19:09:26\",\"2023-01-02T19:14:26\",\"2023-01-02T19:19:26\",\"2023-01-02T19:24:26\",\"2023-01-02T19:29:26\",\"2023-01-02T19:34:26\",\"2023-01-02T19:39:26\",\"2023-01-02T19:44:26\",\"2023-01-02T19:49:26\",\"2023-01-02T19:54:26\",\"2023-01-02T19:59:26\",\"2023-01-02T20:04:26\",\"2023-01-02T20:09:26\",\"2023-01-02T20:14:26\",\"2023-01-02T20:19:26\",\"2023-01-02T20:24:26\",\"2023-01-02T20:29:26\",\"2023-01-02T20:34:26\",\"2023-01-02T20:39:26\",\"2023-01-02T20:44:26\",\"2023-01-02T20:49:26\",\"2023-01-02T20:54:26\",\"2023-01-02T20:59:26\",\"2023-01-02T21:04:26\",\"2023-01-02T21:09:26\",\"2023-01-02T21:14:26\",\"2023-01-02T21:19:26\",\"2023-01-02T21:24:26\",\"2023-01-02T21:29:26\",\"2023-01-02T21:34:26\",\"2023-01-02T21:39:26\",\"2023-01-02T21:44:26\",\"2023-01-02T21:49:26\",\"2023-01-02T21:54:26\",\"2023-01-02T21:59:26\",\"2023-01-02T22:04:26\",\"2023-01-02T22:09:26\",\"2023-01-02T22:14:26\",\"2023-01-02T22:19:26\",\"2023-01-02T22:24:26\",\"2023-01-02T22:29:26\",\"2023-01-02T22:34:26\",\"2023-01-02T22:39:26\",\"2023-01-02T22:44:26\",\"2023-01-02T22:49:26\",\"2023-01-02T22:54:26\",\"2023-01-02T22:59:26\",\"2023-01-02T23:04:26\",\"2023-01-02T23:09:26\",\"2023-01-02T23:14:26\",\"2023-01-02T23:19:26\",\"2023-01-02T23:24:26\",\"2023-01-02T23:29:26\",\"2023-01-02T23:34:26\",\"2023-01-02T23:39:26\",\"2023-01-02T23:44:26\",\"2023-01-02T23:49:26\",\"2023-01-02T23:54:26\",\"2023-01-02T23:59:26\",\"2023-01-03T00:04:26\",\"2023-01-03T00:09:26\",\"2023-01-03T00:14:26\",\"2023-01-03T00:19:26\",\"2023-01-03T00:24:26\",\"2023-01-03T00:29:26\",\"2023-01-03T00:34:26\",\"2023-01-03T00:39:26\",\"2023-01-03T00:44:26\",\"2023-01-03T00:49:26\",\"2023-01-03T00:54:26\",\"2023-01-03T00:59:26\",\"2023-01-03T01:04:26\",\"2023-01-03T01:09:26\",\"2023-01-03T01:14:26\",\"2023-01-03T01:19:26\",\"2023-01-03T01:24:26\",\"2023-01-03T01:29:26\",\"2023-01-03T01:34:26\",\"2023-01-03T01:39:26\",\"2023-01-03T01:44:26\",\"2023-01-03T01:49:26\",\"2023-01-03T01:54:26\",\"2023-01-03T01:59:26\",\"2023-01-03T02:04:26\",\"2023-01-03T02:09:26\",\"2023-01-03T02:14:26\",\"2023-01-03T02:19:26\",\"2023-01-03T02:24:26\",\"2023-01-03T02:29:26\",\"2023-01-03T02:34:26\",\"2023-01-03T02:39:26\",\"2023-01-03T02:44:26\",\"2023-01-03T02:49:26\",\"2023-01-03T02:54:26\",\"2023-01-03T02:59:26\",\"2023-01-03T03:04:26\",\"2023-01-03T03:09:26\",\"2023-01-03T03:14:26\",\"2023-01-03T03:19:26\",\"2023-01-03T03:24:26\",\"2023-01-03T03:29:26\",\"2023-01-03T03:34:26\",\"2023-01-03T03:39:26\",\"2023-01-03T03:44:26\",\"2023-01-03T03:49:26\",\"2023-01-03T03:54:26\",\"2023-01-03T03:59:26\",\"2023-01-03T04:04:26\",\"2023-01-03T04:09:26\",\"2023-01-03T04:14:26\",\"2023-01-03T04:19:26\",\"2023-01-03T04:24:26\",\"2023-01-03T04:29:26\",\"2023-01-03T04:34:26\",\"2023-01-03T04:39:26\",\"2023-01-03T04:44:26\",\"2023-01-03T04:49:26\",\"2023-01-03T04:54:26\",\"2023-01-03T04:59:26\",\"2023-01-03T05:04:26\",\"2023-01-03T05:09:26\"],\"xaxis\":\"x\",\"y\":[3.6263513982983766,3.4175098183691195,3.465569821870299,3.435893557915109,3.2180388241925515,3.415204931378761,3.7057838335914313,3.755501224449139,3.1925992701289583,3.711786988945653,3.375273023816813,3.444458361959277,2.9968259476930315,3.5740083693001576,3.827314376343914,2.854659994985452,3.758807652019029,3.3539887229457466,3.4274623093928955,3.577130517909472,3.189116520572145,3.592053911226242,3.3941341836255816,3.192190359464932,3.0657598003764845,3.233166414535286,3.467650003797285,3.8579740929100494,3.373858953130816,3.5039116041272296,3.2663816805739345,3.7738106131060696,2.8693520325352417,2.7289905350705563,3.0126810103242043,2.674689153924492,3.295525693239231,2.628295824268827,2.4610535067478017,2.2681200456469512,2.2763093586568437,2.492831481478889,2.4042983360438965,2.5055062458628883,2.3091891089959766,2.956891518171571,2.4772101860918863,2.549595244350256,2.59391751910844,2.4401317186801244,2.452445930497529,3.0091358934826538,2.5822764339760758,3.1859263278406877,2.3581176262377794,3.0258333617096813,3.0101520566085127,2.5849908332013145,2.666007561893474,2.969979121951887,2.327646788694092,2.43098531695346,2.367497298398523,3.007805185835973,3.397239770687527,3.472053607364169,3.822371118280397,4.0958695000577965,4.534839649992632,4.705838862412402,5.317353423670076,5.5047243929477565,6.09200466638528,6.448476788193621,7.426354976585278,7.781292029110308,7.833150874140609,8.80983048023673,9.965311767292702,10.300596804430969,10.190492626919587,11.553659759885244,12.544418153501622,12.746599370793088,13.33952585998808,13.764630916317802,15.048738171256112,15.24442044574584,16.6178329337292,16.82263741953426,16.86448609320992,17.261700765675947,18.46416408623831,18.299314686129087,18.97731387955688,19.04910910573357,20.216012307239435,21.026871095387285,21.99480625332356,22.839125202298927,23.62692592530765,24.15936086924496,24.22980359448292,24.47112289832449,23.78596248791103,23.900317956191195,23.258970470097186,23.331584910246747,22.679269039123888,22.41033769221349,22.227182000373134,22.43758065118832,22.83812173739467,24.219016125330267,24.13257552521652,25.32669804936653,26.57131837458563,26.697441351392925,27.444478304513563,27.907845898899797,27.843060876778143,27.95441462700208,27.194422795523973,27.058716634758795,26.958832172108902,26.09870414267849,26.278477463851537,26.252805555210564,27.03792048054977,27.66241369701332,28.70333428174311,29.28160631011462,29.97223308441316,31.29062370334003,31.674336341902944,32.05023397153998,33.382659902632064,33.58411626052865,35.37712496106247,35.32509971652939,35.72246359215948,36.253674123197,37.21468807630779,36.64290093800822,37.126273650169054,36.66067628194902,35.78007490248426,35.82305871819258,35.18033832973567,34.918261197905,35.33071618432396,35.02653790058414,35.98273138805346,36.26688626090718,36.97503503677718,37.036825789811424,37.442443383754,38.40842402895937,38.49735562728438,39.38841780117036,39.7780237400377,40.01757350471869,40.152668219009286,39.68285721398001,39.80990935737263,39.55516839460337,38.71907029349968,38.66109851637651,38.82024878012495,38.4272323569272,38.94212734952874,39.34287412088517,39.369559144515776,40.23735421148199,40.50482582179027,40.639644241527606,40.24708459274304,41.47705603616272,41.26989091378358,41.542674844616776,41.65108706822937,41.63816597240231,41.58480430235502,41.46079144876659,41.60081967317401,40.256555799201685,40.15303560892074,40.04695939456499,40.00635410295399,38.89412674205192,38.501328110388926,39.81582757581514,39.0625583010957,39.83349143515103,39.97587872050832,40.21210821378649,40.117592269375336,39.98434567405774,39.955222792132695,39.85397158804925,39.87454912791591,39.41201215422107,39.49086091946188,38.67053961724803,38.00542196473226,36.92542804327789,36.71044891892199,36.262497985296775,35.94172725339104,34.47188197993161,33.965284012460415,33.661758687812366,32.95657743571236,32.60791172503298,32.4812617239989,31.675616903497545,30.812716246143445,30.48945543365537,29.665384786578283,29.21038653855739,29.397130516044506,28.7442748971508,27.718780829654428,27.141361472455166,26.630332803109876,26.343804124028637,25.537978289219737,25.28316503999579,24.41739318853006,24.36587625979092,23.38187339504739,23.527166713902396,22.72275120392681,22.174489510321784,21.87465912576584,21.44011518694025,20.926470396837058,20.806677068280678,20.404732769918887,19.579526418688943,19.367480584170384,19.042496609733192,18.08975082123356,17.577649266812916,17.0086079366785,16.122237711384788,15.718542116903686,15.09444091406707,15.28182904189191,14.29417133748673,14.172167150415394,13.396380785978558,13.132670896089143,12.640769143309386,12.533887724865409,11.733789971983422,10.896975171378676,10.223444474784491,9.570875734037418,9.649986719651451,9.020485059262905,8.77356821334385,7.866231505974999,7.613430081363894,6.834031614165836,6.510770731107843,5.865644662981518,5.4290426656283,5.016725016213517,4.662836538073865,4.80039417941617,4.714835994504975,5.103865285847366,4.624150566839338,4.320342741940186,4.599289367001603,4.082221989270365,4.586528454690358,4.631399856152814,5.266572913883543,4.377401024118977,4.701579653494497,4.49636253153986,4.8846878986770985,4.543814036303764,5.073424068231804,4.771322299094638,4.25437460176521,4.788580508296469,4.362648482229323,4.659901615898561,4.852033238567151,3.869965051080397,3.976125625588328,4.811116460850695,4.208887361036124,4.08004844056044,4.2647487049853305,3.899129146323183,4.593703130088757,5.0372675957719135,4.602106135841433,4.413693414824709,3.890893484179978,4.115785450699322,5.03166757704569,3.913993478944743,4.61745798959652,4.713424785450621,5.608311619809348,6.419014889436615,6.919463913332813,7.017285019482848,8.428045862881168,8.140019644526168,9.243588430360155,9.493905650148353,10.570018508340862,10.13127893107424,10.779108616279,11.484970703243526,11.258347688765168,11.624872078903588,12.636838075629008,13.136095659220024,13.051935108796998,13.814495620510964,13.486974194822784,14.489007151685174,14.546547847365574,15.016758886202975,15.80007785029182,15.29442470108605,16.77839930597897,17.218414145064575,17.773614556296955,18.121524067712446,18.57823135996709,19.593809932250803,19.74555986107872,20.76140521207129,20.83133031809809,20.970833434028023,22.3567879083403,22.065937477860647,22.4757543229831,22.75244083205173,23.83095002654329,24.2572010843444,24.76121814541496,25.38887720661579,25.467361594230965,25.42274007896628,25.217951017723248,25.328467589499606,24.76541888895717,24.35538814020971,24.09691040378048,24.89784491586642,25.646739095995656,26.78146594088018,27.57239463851852,27.400323310777413,28.298146705160686,29.312945783375163,29.842542742860555,30.52215890204148,30.67931143206299,30.915220689358723,31.40095073547034,31.5228908151131,32.100924285118744,31.701475863208287,31.467224242057085,31.863984556766766,32.651348793731984,32.962254984176894,33.638442611023834,35.17862335356232,35.885019110497645,36.20916569501699,37.1911380410365,37.81638239831557,38.4758632410143,38.74887230436373,39.67457662717269,40.25579868599716,40.95435861211478,41.16643890332734,41.43923114351215,41.98061337557231,41.698089261820265,41.55580537513541,41.66234718338104,41.15222277834143,41.18234367874148,41.34171518142541,42.79331807282703,44.041899762606846,44.60788247206294,45.03223983445556,45.75357799299793,46.02938241268999,46.347448083031615,46.989738045441726,47.31053221893246,46.88408479642552,46.84232385323729,45.87253082193017,44.988419291781234,45.662398288586935,46.22244395392338,46.75973160840606,46.8181398474516,47.31671929711749,47.912182463001045,48.098352179136434,48.965959828156,49.50056084171423,48.99409802086322,48.85491956849471,49.13058671511593,48.74881930554328,48.98624241511631,48.33583399483643,48.44992455188503,48.157231769763946,48.58568395209623,49.66824086516346,49.61011602946639,50.74960725743367,50.452390161027125,51.27428241829253,51.540261749187096,51.51776369305758,51.57087807372682,51.35492124450726,51.31932907778292,50.8435418139528,50.09146159392612,49.954116365211135,49.79176331374886,50.035390170288906,50.39688245257434,50.38440818702527,51.08176648380013,51.67408540077619,51.78197097779664,52.40906531117967,52.47313237838884,52.53620352859205,52.25383312148332,51.95248329429283,51.76075238497279,51.34053999573299,50.83308245164271,49.94851662171915,48.67820937380792,48.2725345030485,47.37336026528296,47.42499526938664,46.69090444943777,45.8132765591856,45.83216073921875,44.79769950034864,43.70094432171685,43.96594663079778,42.724406153998025,41.90879567226729,41.94982942026104,41.22178871063441,40.55236710085543,39.96302216226863,39.14308905568858,38.67734878373257,38.3547545106992,37.29229283007793,36.773625466249264,35.97836259688842,35.10384565440267,35.07280128259332,34.40955671170173,33.49791003495246,32.88004540580894,32.851379531741486,31.346566264780485,31.728061540309245,31.121274458981286,30.82949434321755,29.847970444230512,29.238542614276756,28.62693351020905,28.10277358989449,27.446201198658336,27.136514642620234,25.873260358080817,25.451163826032783,25.09898740576624,24.72126600328944,24.402244777917787,23.3024089244173,22.31601071595915,21.85651401693266,21.45505140481249,20.42924989514117,20.111218349707187,19.032493053989235,18.422079201632563,18.24081963152378,17.180987164506448,17.052747164534935,16.608728561673953,16.20145802030566,15.288685547341773,15.219032808189375,14.568965340140815,13.162905898542537,12.662762861386948,12.624167098751832,12.38596523823021,11.423239738005655,11.11937863327966,10.652940936325788,9.846518637079912,10.052059852617472,9.034918357779516,8.770918653706481,8.410937660043563,8.540967982824045,8.133578005023123,7.882691099599111,7.159174822327385,7.541923826894711,7.371530139196132,6.779912448634146,6.861270415302423,5.982867797972831,6.254535727703963,6.176360395321644,5.683316447755661,5.887738955313647,5.992444014150277,6.54249835562014,6.04987377097494,6.152166577159628,6.010177721822042,5.634107945645011,6.039148950386512,6.150401496970531,6.212801640145683,6.009777706676354,6.364792872588819,6.208766622158113,5.982844930139983,5.872184621497525,5.807097841416765,5.376620773795986,6.295788673698909,6.390053730795218,6.01097633424115,6.337304914598793,6.281798211049764,5.909051864809189,5.756292063468823,5.290482791518813,5.492404007433028,4.95570091740447,5.757451728670849,5.002117747237528,4.7734358986622665,5.294648414842498,4.851092966656102,4.883003219046046,5.056080235695303,4.055146970174394,4.59248072098027],\"yaxis\":\"y\",\"type\":\"scattergl\"}],                        {\"template\":{\"data\":{\"barpolar\":[{\"marker\":{\"line\":{\"color\":\"white\",\"width\":0.5},\"pattern\":{\"fillmode\":\"overlay\",\"size\":10,\"solidity\":0.2}},\"type\":\"barpolar\"}],\"bar\":[{\"error_x\":{\"color\":\"rgb(36,36,36)\"},\"error_y\":{\"color\":\"rgb(36,36,36)\"},\"marker\":{\"line\":{\"color\":\"white\",\"width\":0.5},\"pattern\":{\"fillmode\":\"overlay\",\"size\":10,\"solidity\":0.2}},\"type\":\"bar\"}],\"carpet\":[{\"aaxis\":{\"endlinecolor\":\"rgb(36,36,36)\",\"gridcolor\":\"white\",\"linecolor\":\"white\",\"minorgridcolor\":\"white\",\"startlinecolor\":\"rgb(36,36,36)\"},\"baxis\":{\"endlinecolor\":\"rgb(36,36,36)\",\"gridcolor\":\"white\",\"linecolor\":\"white\",\"minorgridcolor\":\"white\",\"startlinecolor\":\"rgb(36,36,36)\"},\"type\":\"carpet\"}],\"choropleth\":[{\"colorbar\":{\"outlinewidth\":1,\"tickcolor\":\"rgb(36,36,36)\",\"ticks\":\"outside\"},\"type\":\"choropleth\"}],\"contourcarpet\":[{\"colorbar\":{\"outlinewidth\":1,\"tickcolor\":\"rgb(36,36,36)\",\"ticks\":\"outside\"},\"type\":\"contourcarpet\"}],\"contour\":[{\"colorbar\":{\"outlinewidth\":1,\"tickcolor\":\"rgb(36,36,36)\",\"ticks\":\"outside\"},\"colorscale\":[[0.0,\"#440154\"],[0.1111111111111111,\"#482878\"],[0.2222222222222222,\"#3e4989\"],[0.3333333333333333,\"#31688e\"],[0.4444444444444444,\"#26828e\"],[0.5555555555555556,\"#1f9e89\"],[0.6666666666666666,\"#35b779\"],[0.7777777777777778,\"#6ece58\"],[0.8888888888888888,\"#b5de2b\"],[1.0,\"#fde725\"]],\"type\":\"contour\"}],\"heatmapgl\":[{\"colorbar\":{\"outlinewidth\":1,\"tickcolor\":\"rgb(36,36,36)\",\"ticks\":\"outside\"},\"colorscale\":[[0.0,\"#440154\"],[0.1111111111111111,\"#482878\"],[0.2222222222222222,\"#3e4989\"],[0.3333333333333333,\"#31688e\"],[0.4444444444444444,\"#26828e\"],[0.5555555555555556,\"#1f9e89\"],[0.6666666666666666,\"#35b779\"],[0.7777777777777778,\"#6ece58\"],[0.8888888888888888,\"#b5de2b\"],[1.0,\"#fde725\"]],\"type\":\"heatmapgl\"}],\"heatmap\":[{\"colorbar\":{\"outlinewidth\":1,\"tickcolor\":\"rgb(36,36,36)\",\"ticks\":\"outside\"},\"colorscale\":[[0.0,\"#440154\"],[0.1111111111111111,\"#482878\"],[0.2222222222222222,\"#3e4989\"],[0.3333333333333333,\"#31688e\"],[0.4444444444444444,\"#26828e\"],[0.5555555555555556,\"#1f9e89\"],[0.6666666666666666,\"#35b779\"],[0.7777777777777778,\"#6ece58\"],[0.8888888888888888,\"#b5de2b\"],[1.0,\"#fde725\"]],\"type\":\"heatmap\"}],\"histogram2dcontour\":[{\"colorbar\":{\"outlinewidth\":1,\"tickcolor\":\"rgb(36,36,36)\",\"ticks\":\"outside\"},\"colorscale\":[[0.0,\"#440154\"],[0.1111111111111111,\"#482878\"],[0.2222222222222222,\"#3e4989\"],[0.3333333333333333,\"#31688e\"],[0.4444444444444444,\"#26828e\"],[0.5555555555555556,\"#1f9e89\"],[0.6666666666666666,\"#35b779\"],[0.7777777777777778,\"#6ece58\"],[0.8888888888888888,\"#b5de2b\"],[1.0,\"#fde725\"]],\"type\":\"histogram2dcontour\"}],\"histogram2d\":[{\"colorbar\":{\"outlinewidth\":1,\"tickcolor\":\"rgb(36,36,36)\",\"ticks\":\"outside\"},\"colorscale\":[[0.0,\"#440154\"],[0.1111111111111111,\"#482878\"],[0.2222222222222222,\"#3e4989\"],[0.3333333333333333,\"#31688e\"],[0.4444444444444444,\"#26828e\"],[0.5555555555555556,\"#1f9e89\"],[0.6666666666666666,\"#35b779\"],[0.7777777777777778,\"#6ece58\"],[0.8888888888888888,\"#b5de2b\"],[1.0,\"#fde725\"]],\"type\":\"histogram2d\"}],\"histogram\":[{\"marker\":{\"line\":{\"color\":\"white\",\"width\":0.6}},\"type\":\"histogram\"}],\"mesh3d\":[{\"colorbar\":{\"outlinewidth\":1,\"tickcolor\":\"rgb(36,36,36)\",\"ticks\":\"outside\"},\"type\":\"mesh3d\"}],\"parcoords\":[{\"line\":{\"colorbar\":{\"outlinewidth\":1,\"tickcolor\":\"rgb(36,36,36)\",\"ticks\":\"outside\"}},\"type\":\"parcoords\"}],\"pie\":[{\"automargin\":true,\"type\":\"pie\"}],\"scatter3d\":[{\"line\":{\"colorbar\":{\"outlinewidth\":1,\"tickcolor\":\"rgb(36,36,36)\",\"ticks\":\"outside\"}},\"marker\":{\"colorbar\":{\"outlinewidth\":1,\"tickcolor\":\"rgb(36,36,36)\",\"ticks\":\"outside\"}},\"type\":\"scatter3d\"}],\"scattercarpet\":[{\"marker\":{\"colorbar\":{\"outlinewidth\":1,\"tickcolor\":\"rgb(36,36,36)\",\"ticks\":\"outside\"}},\"type\":\"scattercarpet\"}],\"scattergeo\":[{\"marker\":{\"colorbar\":{\"outlinewidth\":1,\"tickcolor\":\"rgb(36,36,36)\",\"ticks\":\"outside\"}},\"type\":\"scattergeo\"}],\"scattergl\":[{\"marker\":{\"colorbar\":{\"outlinewidth\":1,\"tickcolor\":\"rgb(36,36,36)\",\"ticks\":\"outside\"}},\"type\":\"scattergl\"}],\"scattermapbox\":[{\"marker\":{\"colorbar\":{\"outlinewidth\":1,\"tickcolor\":\"rgb(36,36,36)\",\"ticks\":\"outside\"}},\"type\":\"scattermapbox\"}],\"scatterpolargl\":[{\"marker\":{\"colorbar\":{\"outlinewidth\":1,\"tickcolor\":\"rgb(36,36,36)\",\"ticks\":\"outside\"}},\"type\":\"scatterpolargl\"}],\"scatterpolar\":[{\"marker\":{\"colorbar\":{\"outlinewidth\":1,\"tickcolor\":\"rgb(36,36,36)\",\"ticks\":\"outside\"}},\"type\":\"scatterpolar\"}],\"scatter\":[{\"marker\":{\"colorbar\":{\"outlinewidth\":1,\"tickcolor\":\"rgb(36,36,36)\",\"ticks\":\"outside\"}},\"type\":\"scatter\"}],\"scatterternary\":[{\"marker\":{\"colorbar\":{\"outlinewidth\":1,\"tickcolor\":\"rgb(36,36,36)\",\"ticks\":\"outside\"}},\"type\":\"scatterternary\"}],\"surface\":[{\"colorbar\":{\"outlinewidth\":1,\"tickcolor\":\"rgb(36,36,36)\",\"ticks\":\"outside\"},\"colorscale\":[[0.0,\"#440154\"],[0.1111111111111111,\"#482878\"],[0.2222222222222222,\"#3e4989\"],[0.3333333333333333,\"#31688e\"],[0.4444444444444444,\"#26828e\"],[0.5555555555555556,\"#1f9e89\"],[0.6666666666666666,\"#35b779\"],[0.7777777777777778,\"#6ece58\"],[0.8888888888888888,\"#b5de2b\"],[1.0,\"#fde725\"]],\"type\":\"surface\"}],\"table\":[{\"cells\":{\"fill\":{\"color\":\"rgb(237,237,237)\"},\"line\":{\"color\":\"white\"}},\"header\":{\"fill\":{\"color\":\"rgb(217,217,217)\"},\"line\":{\"color\":\"white\"}},\"type\":\"table\"}]},\"layout\":{\"annotationdefaults\":{\"arrowhead\":0,\"arrowwidth\":1},\"autotypenumbers\":\"strict\",\"coloraxis\":{\"colorbar\":{\"outlinewidth\":1,\"tickcolor\":\"rgb(36,36,36)\",\"ticks\":\"outside\"}},\"colorscale\":{\"diverging\":[[0.0,\"rgb(103,0,31)\"],[0.1,\"rgb(178,24,43)\"],[0.2,\"rgb(214,96,77)\"],[0.3,\"rgb(244,165,130)\"],[0.4,\"rgb(253,219,199)\"],[0.5,\"rgb(247,247,247)\"],[0.6,\"rgb(209,229,240)\"],[0.7,\"rgb(146,197,222)\"],[0.8,\"rgb(67,147,195)\"],[0.9,\"rgb(33,102,172)\"],[1.0,\"rgb(5,48,97)\"]],\"sequential\":[[0.0,\"#440154\"],[0.1111111111111111,\"#482878\"],[0.2222222222222222,\"#3e4989\"],[0.3333333333333333,\"#31688e\"],[0.4444444444444444,\"#26828e\"],[0.5555555555555556,\"#1f9e89\"],[0.6666666666666666,\"#35b779\"],[0.7777777777777778,\"#6ece58\"],[0.8888888888888888,\"#b5de2b\"],[1.0,\"#fde725\"]],\"sequentialminus\":[[0.0,\"#440154\"],[0.1111111111111111,\"#482878\"],[0.2222222222222222,\"#3e4989\"],[0.3333333333333333,\"#31688e\"],[0.4444444444444444,\"#26828e\"],[0.5555555555555556,\"#1f9e89\"],[0.6666666666666666,\"#35b779\"],[0.7777777777777778,\"#6ece58\"],[0.8888888888888888,\"#b5de2b\"],[1.0,\"#fde725\"]]},\"colorway\":[\"#1F77B4\",\"#FF7F0E\",\"#2CA02C\",\"#D62728\",\"#9467BD\",\"#8C564B\",\"#E377C2\",\"#7F7F7F\",\"#BCBD22\",\"#17BECF\"],\"font\":{\"color\":\"rgb(36,36,36)\"},\"geo\":{\"bgcolor\":\"white\",\"lakecolor\":\"white\",\"landcolor\":\"white\",\"showlakes\":true,\"showland\":true,\"subunitcolor\":\"white\"},\"hoverlabel\":{\"align\":\"left\"},\"hovermode\":\"closest\",\"mapbox\":{\"style\":\"light\"},\"paper_bgcolor\":\"white\",\"plot_bgcolor\":\"white\",\"polar\":{\"angularaxis\":{\"gridcolor\":\"rgb(232,232,232)\",\"linecolor\":\"rgb(36,36,36)\",\"showgrid\":false,\"showline\":true,\"ticks\":\"outside\"},\"bgcolor\":\"white\",\"radialaxis\":{\"gridcolor\":\"rgb(232,232,232)\",\"linecolor\":\"rgb(36,36,36)\",\"showgrid\":false,\"showline\":true,\"ticks\":\"outside\"}},\"scene\":{\"xaxis\":{\"backgroundcolor\":\"white\",\"gridcolor\":\"rgb(232,232,232)\",\"gridwidth\":2,\"linecolor\":\"rgb(36,36,36)\",\"showbackground\":true,\"showgrid\":false,\"showline\":true,\"ticks\":\"outside\",\"zeroline\":false,\"zerolinecolor\":\"rgb(36,36,36)\"},\"yaxis\":{\"backgroundcolor\":\"white\",\"gridcolor\":\"rgb(232,232,232)\",\"gridwidth\":2,\"linecolor\":\"rgb(36,36,36)\",\"showbackground\":true,\"showgrid\":false,\"showline\":true,\"ticks\":\"outside\",\"zeroline\":false,\"zerolinecolor\":\"rgb(36,36,36)\"},\"zaxis\":{\"backgroundcolor\":\"white\",\"gridcolor\":\"rgb(232,232,232)\",\"gridwidth\":2,\"linecolor\":\"rgb(36,36,36)\",\"showbackground\":true,\"showgrid\":false,\"showline\":true,\"ticks\":\"outside\",\"zeroline\":false,\"zerolinecolor\":\"rgb(36,36,36)\"}},\"shapedefaults\":{\"fillcolor\":\"black\",\"line\":{\"width\":0},\"opacity\":0.3},\"ternary\":{\"aaxis\":{\"gridcolor\":\"rgb(232,232,232)\",\"linecolor\":\"rgb(36,36,36)\",\"showgrid\":false,\"showline\":true,\"ticks\":\"outside\"},\"baxis\":{\"gridcolor\":\"rgb(232,232,232)\",\"linecolor\":\"rgb(36,36,36)\",\"showgrid\":false,\"showline\":true,\"ticks\":\"outside\"},\"bgcolor\":\"white\",\"caxis\":{\"gridcolor\":\"rgb(232,232,232)\",\"linecolor\":\"rgb(36,36,36)\",\"showgrid\":false,\"showline\":true,\"ticks\":\"outside\"}},\"title\":{\"x\":0.05},\"xaxis\":{\"automargin\":true,\"gridcolor\":\"rgb(232,232,232)\",\"linecolor\":\"rgb(36,36,36)\",\"showgrid\":false,\"showline\":true,\"ticks\":\"outside\",\"title\":{\"standoff\":15},\"zeroline\":false,\"zerolinecolor\":\"rgb(36,36,36)\"},\"yaxis\":{\"automargin\":true,\"gridcolor\":\"rgb(232,232,232)\",\"linecolor\":\"rgb(36,36,36)\",\"showgrid\":false,\"showline\":true,\"ticks\":\"outside\",\"title\":{\"standoff\":15},\"zeroline\":false,\"zerolinecolor\":\"rgb(36,36,36)\"}}},\"xaxis\":{\"anchor\":\"y\",\"domain\":[0.0,1.0],\"title\":{\"text\":\"Date\",\"font\":{\"size\":16,\"family\":\"Arial\"}},\"tickfont\":{\"family\":\"Arial\",\"color\":\"black\",\"size\":14},\"tickcolor\":\"black\"},\"yaxis\":{\"anchor\":\"x\",\"domain\":[0.0,1.0],\"title\":{\"text\":\"Temperature \\u00b0C\",\"font\":{\"size\":16,\"family\":\"Arial\"}},\"range\":[0,55],\"tickfont\":{\"family\":\"Arial\",\"color\":\"black\",\"size\":14},\"showgrid\":true,\"tickcolor\":\"black\"},\"legend\":{\"title\":{\"text\":\"Type of gearbox\",\"font\":{\"color\":\"black\"}},\"tracegroupgap\":0},\"margin\":{\"t\":60},\"height\":600,\"width\":1250,\"hovermode\":\"x unified\",\"title\":{\"font\":{\"size\":22,\"family\":\"Arial\"},\"text\":\"Gearbox sensor readings\",\"x\":0.5,\"y\":0.9}},                        {\"responsive\": true}                    ).then(function(){\n",
              "                            \n",
              "var gd = document.getElementById('e1f1b20a-d7c0-4971-8f08-af96dd2e0682');\n",
              "var x = new MutationObserver(function (mutations, observer) {{\n",
              "        var display = window.getComputedStyle(gd).display;\n",
              "        if (!display || display === 'none') {{\n",
              "            console.log([gd, 'removed!']);\n",
              "            Plotly.purge(gd);\n",
              "            observer.disconnect();\n",
              "        }}\n",
              "}});\n",
              "\n",
              "// Listen for the removal of the full notebook cells\n",
              "var notebookContainer = gd.closest('#notebook-container');\n",
              "if (notebookContainer) {{\n",
              "    x.observe(notebookContainer, {childList: true});\n",
              "}}\n",
              "\n",
              "// Listen for the clearing of the current output cell\n",
              "var outputEl = gd.closest('.output');\n",
              "if (outputEl) {{\n",
              "    x.observe(outputEl, {childList: true});\n",
              "}}\n",
              "\n",
              "                        })                };                            </script>        </div>\n",
              "</body>\n",
              "</html>"
            ]
          },
          "metadata": {}
        }
      ]
    },
    {
      "cell_type": "code",
      "source": [
        "fig.write_html(\"Gearbox.html\")"
      ],
      "metadata": {
        "id": "1wTlk91uHng3"
      },
      "execution_count": 18,
      "outputs": []
    },
    {
      "cell_type": "markdown",
      "source": [
        "## Observations\n",
        "\n",
        "It can be seen in the plot a clear pattern of readings where the temperature in the period between 5 am to 8 am reaches its lowest point. In addition both gearboxes depicted a similar behaviour during all the readings with a slightly temperature difference. \n",
        "A gradual increment is produced in the gearbox temperature reaching its peak point at roughly 50 C. \n",
        "The characteristic parameters of working conditions impacting gearbox operation could be: \n",
        "\n",
        "1.   Running state: traction, braking, idling, and static. \n",
        "2.   Line features: bridges, tunnels, turns, and ramps\n",
        "\n",
        "why gearbox temperature may vary:\n",
        "\n",
        "Load: The amount of load or weight that a train is carrying can have a significant impact on the temperature of the gearbox.\n",
        "\n",
        "Speed: The speed at which the train is traveling can also impact the temperature of the gearbox.\n",
        "\n",
        "Ambient temperature: The temperature of the environment in which the train is operating can also have an impact on the temperature of the gearbox. When the ambient temperature is high, the gearbox may struggle to dissipate heat.\n",
        "\n",
        "Lubrication: The quality and amount of lubrication in the gearbox can also impact its temperature. If the gearbox is not properly lubricated, it may generate more heat( due friction) as it works harder to maintain the train's speed.\n",
        "\n",
        "Maintenance: the overall condition of the gearbox and the train's other components can impact its temperature."
      ],
      "metadata": {
        "id": "I7murI3T_E2Q"
      }
    },
    {
      "cell_type": "markdown",
      "source": [
        "## Notes\n",
        "- Will be interesting to look into the gearbox thresholds\n",
        "- Why does the temperature remain at zero for that prolong period, is it normal?,  what is the operational state of the gearbox at that time?"
      ],
      "metadata": {
        "id": "G5imkCW4_lWx"
      }
    },
    {
      "cell_type": "code",
      "source": [],
      "metadata": {
        "id": "y9uPEerAAY_j"
      },
      "execution_count": null,
      "outputs": []
    }
  ]
}